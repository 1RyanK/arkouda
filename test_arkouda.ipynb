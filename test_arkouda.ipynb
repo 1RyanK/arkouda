{
 "cells": [
  {
   "cell_type": "code",
   "execution_count": null,
   "metadata": {},
   "outputs": [],
   "source": [
    "import importlib\n",
    "import numpy as np\n",
    "import math\n",
    "import gc"
   ]
  },
  {
   "cell_type": "code",
   "execution_count": null,
   "metadata": {},
   "outputs": [],
   "source": [
    "import arkouda as ak"
   ]
  },
  {
   "cell_type": "code",
   "execution_count": null,
   "metadata": {},
   "outputs": [],
   "source": [
    "importlib.reload(ak)"
   ]
  },
  {
   "cell_type": "code",
   "execution_count": null,
   "metadata": {},
   "outputs": [],
   "source": [
    "ak.set_defaults()\n",
    "ak.v = False\n",
    "ak.connect(server=\"localhost\", port=5555)"
   ]
  },
  {
   "cell_type": "code",
   "execution_count": null,
   "metadata": {},
   "outputs": [],
   "source": [
    "ak.v = False\n",
    "a = ak.randint(0,100000,2**18)\n",
    "print(a.size,a)"
   ]
  },
  {
   "cell_type": "code",
   "execution_count": null,
   "metadata": {},
   "outputs": [],
   "source": [
    "u,c = ak.unique(a,return_counts=True)\n",
    "print(u.size,u)\n",
    "print(c.size,c)"
   ]
  },
  {
   "cell_type": "code",
   "execution_count": null,
   "metadata": {},
   "outputs": [],
   "source": [
    "u = a.unique()\n",
    "print(u.size,u)"
   ]
  },
  {
   "cell_type": "code",
   "execution_count": null,
   "metadata": {},
   "outputs": [],
   "source": [
    "u,c = a.unique(return_counts=True)\n",
    "print(u.size,u)\n",
    "print(c.size,c)"
   ]
  },
  {
   "cell_type": "code",
   "execution_count": null,
   "metadata": {},
   "outputs": [],
   "source": [
    "a = ak.randint(1,1000,1000)\n",
    "a[1] = 0\n",
    "a[5] = 0\n",
    "print(a)\n",
    "print(ak.argmin(a))"
   ]
  },
  {
   "cell_type": "code",
   "execution_count": null,
   "metadata": {},
   "outputs": [],
   "source": [
    "a = ak.randint(0,1000,1000)\n",
    "a[1] = 1000\n",
    "a[5] = 1000\n",
    "print(a)\n",
    "print(ak.argmax(a))"
   ]
  },
  {
   "cell_type": "code",
   "execution_count": null,
   "metadata": {},
   "outputs": [],
   "source": [
    "a = ak.ones(10)\n",
    "a[::2] = 0\n",
    "print(a)"
   ]
  },
  {
   "cell_type": "code",
   "execution_count": null,
   "metadata": {},
   "outputs": [],
   "source": [
    "n = 5\n",
    "n2 = n*2\n",
    "a = ak.ones(n2)\n",
    "b = ak.zeros(n2)\n",
    "a[1::2] = b[0::2]\n",
    "print(a)"
   ]
  },
  {
   "cell_type": "code",
   "execution_count": null,
   "metadata": {},
   "outputs": [],
   "source": [
    "a = ak.zeros(10) # float64\n",
    "b = ak.arange(0,10,1) # int64\n",
    "a[:] = b # copy b:int64 to a:float64\n",
    "print(b,b.dtype)\n",
    "print(a,a.dtype)"
   ]
  },
  {
   "cell_type": "code",
   "execution_count": null,
   "metadata": {},
   "outputs": [],
   "source": [
    "a = ak.randint(0,2,10,dtype=ak.bool)\n",
    "a[1] = True\n",
    "a[2] = True\n",
    "print(a)"
   ]
  },
  {
   "cell_type": "code",
   "execution_count": null,
   "metadata": {},
   "outputs": [],
   "source": [
    "a = ak.ones(10,dtype=ak.int64)\n",
    "iv = ak.arange(0,10,1)[::2]\n",
    "a[iv] = 10\n",
    "print(a)"
   ]
  },
  {
   "cell_type": "code",
   "execution_count": null,
   "metadata": {},
   "outputs": [],
   "source": [
    "a = ak.ones(10)\n",
    "iv = ak.arange(0,10,1)[::2]\n",
    "a[iv] = 10.0\n",
    "print(a)"
   ]
  },
  {
   "cell_type": "code",
   "execution_count": null,
   "metadata": {},
   "outputs": [],
   "source": [
    "a = ak.ones(10,dtype=ak.bool)\n",
    "iv = ak.arange(0,10,1)[::2]\n",
    "a[iv] = False\n",
    "print(a)"
   ]
  },
  {
   "cell_type": "code",
   "execution_count": null,
   "metadata": {},
   "outputs": [],
   "source": [
    "a = ak.ones(10,dtype=ak.bool)\n",
    "iv = ak.arange(0,5,1)\n",
    "b = ak.zeros(iv.size,dtype=ak.bool)\n",
    "a[iv] = b\n",
    "print(a)"
   ]
  },
  {
   "cell_type": "code",
   "execution_count": null,
   "metadata": {},
   "outputs": [],
   "source": [
    "a = ak.randint(10,20,10)\n",
    "print(a)\n",
    "iv = ak.randint(0,10,5)\n",
    "print(iv)\n",
    "b = ak.zeros(iv.size,dtype=ak.int64)\n",
    "a[iv] = b\n",
    "print(a)"
   ]
  },
  {
   "cell_type": "code",
   "execution_count": null,
   "metadata": {},
   "outputs": [],
   "source": [
    "#ak.disconnect()"
   ]
  },
  {
   "cell_type": "code",
   "execution_count": null,
   "metadata": {},
   "outputs": [],
   "source": [
    "ak.v = False\n",
    "a = ak.randint(10,30,40)\n",
    "vc = ak.value_counts(a)\n",
    "print(vc[0].size,vc[0])\n",
    "print(vc[1].size,vc[1])"
   ]
  },
  {
   "cell_type": "code",
   "execution_count": null,
   "metadata": {},
   "outputs": [],
   "source": [
    "ak.v = False\n",
    "\n",
    "a = ak.arange(0,10,1)\n",
    "b = a[a<5]\n",
    "a = ak.linspace(0,9,10)\n",
    "b = a[a<5]\n",
    "print(b)"
   ]
  },
  {
   "cell_type": "code",
   "execution_count": null,
   "metadata": {},
   "outputs": [],
   "source": [
    "ak.v = True\n",
    "ak.pdarrayIterThresh = 1000\n",
    "a = ak.arange(0,10,1)\n",
    "print(list(a))\n"
   ]
  },
  {
   "cell_type": "code",
   "execution_count": null,
   "metadata": {},
   "outputs": [],
   "source": [
    "ak.v = False\n",
    "a = ak.randint(10,30,40)\n",
    "u = ak.unique(a)\n",
    "h = ak.histogram(a,bins=20)\n",
    "print(a)\n",
    "print(h.size,h)\n",
    "print(u.size,u)"
   ]
  },
  {
   "cell_type": "code",
   "execution_count": null,
   "metadata": {},
   "outputs": [],
   "source": [
    "ak.v = False\n",
    "a = ak.randint(10,30,50)\n",
    "h = ak.histogram(a,bins=20)\n",
    "print(a)\n",
    "print(h)"
   ]
  },
  {
   "cell_type": "code",
   "execution_count": null,
   "metadata": {},
   "outputs": [],
   "source": [
    "ak.v = False\n",
    "a = ak.randint(0,2,50,dtype=ak.bool)\n",
    "print(a)\n",
    "print(a.sum())"
   ]
  },
  {
   "cell_type": "code",
   "execution_count": null,
   "metadata": {},
   "outputs": [],
   "source": [
    "ak.v = False\n",
    "a = ak.linspace(101,102,100)\n",
    "h = ak.histogram(a,bins=50)\n",
    "print(h)"
   ]
  },
  {
   "cell_type": "code",
   "execution_count": null,
   "metadata": {},
   "outputs": [],
   "source": [
    "ak.v = False\n",
    "a = ak.arange(0,100,1)\n",
    "h = ak.histogram(a,bins=10)\n",
    "print(h)"
   ]
  },
  {
   "cell_type": "code",
   "execution_count": null,
   "metadata": {},
   "outputs": [],
   "source": [
    "ak.v = False\n",
    "a = ak.arange(0,99,1)\n",
    "b = a[::10] # take every tenth one\n",
    "b = b[::-1] # reverse b\n",
    "print(a)\n",
    "print(b)\n",
    "c = ak.in1d(a,b) # put out truth vector\n",
    "print(c)\n",
    "print(a[c]) # compress out false values"
   ]
  },
  {
   "cell_type": "code",
   "execution_count": null,
   "metadata": {},
   "outputs": [],
   "source": [
    "ak.v = False\n",
    "a = np.ones(10,dtype=np.bool)\n",
    "b = np.arange(0,10,1)\n",
    "\n",
    "np.sum(a),np.cumsum(a),np.sum(b<4),b[b<4],b<5"
   ]
  },
  {
   "cell_type": "code",
   "execution_count": null,
   "metadata": {},
   "outputs": [],
   "source": [
    "ak.v = False\n",
    "# currently... ak pdarray to np array\n",
    "a = ak.linspace(0,9,10)\n",
    "b = np.array(list(a))\n",
    "print(a,a.dtype,b,b.dtype)\n",
    "\n",
    "a = ak.arange(0,10,1)\n",
    "b = np.array(list(a))\n",
    "print(a,a.dtype,b,b.dtype)\n",
    "\n",
    "a = ak.ones(10,dtype=ak.bool)\n",
    "b = np.array(list(a))\n",
    "print(a,a.dtype,b,b.dtype)\n"
   ]
  },
  {
   "cell_type": "code",
   "execution_count": null,
   "metadata": {},
   "outputs": [],
   "source": [
    "ak.v = False\n",
    "\n",
    "b = np.linspace(1,10,10)\n",
    "a = np.arange(1,11,1)\n",
    "print(b/a)"
   ]
  },
  {
   "cell_type": "code",
   "execution_count": null,
   "metadata": {},
   "outputs": [],
   "source": [
    "ak.v = False\n",
    "\n",
    "#a = np.ones(10000,dtype=np.int64)\n",
    "a = np.linspace(0,99,100)\n",
    "#a = np.arange(0,100,1)\n",
    "print(a)"
   ]
  },
  {
   "cell_type": "code",
   "execution_count": null,
   "metadata": {},
   "outputs": [],
   "source": [
    "ak.v = False\n",
    "print(a.__repr__())\n",
    "print(a.__str__())"
   ]
  },
  {
   "cell_type": "code",
   "execution_count": null,
   "metadata": {},
   "outputs": [],
   "source": [
    "ak.v = False\n",
    "print(a)\n",
    "print(type(a), a.dtype, a.size, a.ndim, a.shape, a.itemsize)"
   ]
  },
  {
   "cell_type": "code",
   "execution_count": null,
   "metadata": {},
   "outputs": [],
   "source": [
    "ak.v = False\n",
    "a = ak.arange(0,100,1)"
   ]
  },
  {
   "cell_type": "code",
   "execution_count": null,
   "metadata": {},
   "outputs": [],
   "source": [
    "ak.v = False\n",
    "print(a)"
   ]
  },
  {
   "cell_type": "code",
   "execution_count": null,
   "metadata": {},
   "outputs": [],
   "source": [
    "ak.v = False\n",
    "\n",
    "b = ak.linspace(0,99,100)\n",
    "print(b.__repr__())"
   ]
  },
  {
   "cell_type": "code",
   "execution_count": null,
   "metadata": {},
   "outputs": [],
   "source": [
    "ak.v = False\n",
    "b = ak.linspace(0,9,10)\n",
    "a = ak.arange(0,10,1)\n",
    "print(a.name, a.size, a.dtype, a)\n",
    "print(b.name, b.size, b.dtype, b)\n",
    "print(ak.info(a+b))"
   ]
  },
  {
   "cell_type": "code",
   "execution_count": null,
   "metadata": {},
   "outputs": [],
   "source": [
    "ak.v = False\n",
    "\n",
    "c = ak.arange(0,10,1)\n",
    "print(ak.info(c))\n",
    "print(c.name, c.dtype, c.size, c.ndim, c.shape, c.itemsize)\n",
    "print(c)"
   ]
  },
  {
   "cell_type": "code",
   "execution_count": null,
   "metadata": {},
   "outputs": [],
   "source": [
    "ak.v = False\n",
    "\n",
    "print(5+c + 5)"
   ]
  },
  {
   "cell_type": "code",
   "execution_count": null,
   "metadata": {},
   "outputs": [],
   "source": [
    "c = np.array([10, 11, 12, 13, 14, 15, 16, 17, 18, 19])\n",
    "c = np.array([10, 11, 12, 13, 14, 15, 16, 17, 18, 19.1])\n",
    "print(c.__repr__(), c.dtype.__str__(), c.dtype.__repr__())"
   ]
  },
  {
   "cell_type": "code",
   "execution_count": null,
   "metadata": {},
   "outputs": [],
   "source": [
    "ak.v = False\n",
    "a = np.ones(9)\n",
    "b = np.arange(1,10,1)\n",
    "print(a.dtype,b.dtype)\n",
    "c = ak.ones(9)\n",
    "d = ak.arange(1,10,1)\n",
    "print(c.dtype,d.dtype)\n",
    "y = a/b\n",
    "z = c/d\n",
    "print(\"truediv  \\nnp out:\",y,\"\\nak out:\",z)\n",
    "print(y[5],z[5],y[5] ==z[5])\n",
    "y = a//b\n",
    "z = c//d\n",
    "print(\"floordiv \\nnp out:\",y,\"\\nak out:\",z)\n",
    "print(y[5],z[5],y[5] ==z[5])"
   ]
  },
  {
   "cell_type": "code",
   "execution_count": null,
   "metadata": {},
   "outputs": [],
   "source": [
    "ak.v = False\n",
    "\n",
    "c = ak.arange(1,10,1)\n",
    "c //= c\n",
    "print(c)\n",
    "c += c\n",
    "print(c)\n",
    "c *= c\n",
    "print(c)"
   ]
  },
  {
   "cell_type": "code",
   "execution_count": null,
   "metadata": {},
   "outputs": [],
   "source": [
    "ak.v = False\n",
    "\n",
    "a = np.ones(9,dtype=np.int64)\n",
    "b = np.ones_like(a)\n",
    "print(b)"
   ]
  },
  {
   "cell_type": "code",
   "execution_count": null,
   "metadata": {},
   "outputs": [],
   "source": [
    "ak.v = False\n",
    "\n",
    "a = ak.ones(9,dtype=ak.int64)\n",
    "b = ak.ones_like(a)\n",
    "print(b)"
   ]
  },
  {
   "cell_type": "code",
   "execution_count": null,
   "metadata": {},
   "outputs": [],
   "source": [
    "ak.v = False\n",
    "\n",
    "a = ak.arange(0,10,1)\n",
    "b = np.arange(0,10,1)\n",
    "\n",
    "print(a[5] == b[5])"
   ]
  },
  {
   "cell_type": "code",
   "execution_count": null,
   "metadata": {},
   "outputs": [],
   "source": [
    "ak.v = False\n",
    "\n",
    "a = ak.arange(0,10,1)\n",
    "b = np.arange(0,10,1)\n",
    "\n",
    "a[5] = 10.2\n",
    "print(a[5])"
   ]
  },
  {
   "cell_type": "code",
   "execution_count": null,
   "metadata": {},
   "outputs": [],
   "source": [
    "ak.v = False\n",
    "\n",
    "a = ak.arange(0,10,1)\n",
    "b = np.arange(0,10,1)\n",
    "#print((a[:]),b[:])\n",
    "#print(a[1:-1:2],b[1:-1:2])\n",
    "#print(a[0:10:2],b[0:10:2])\n",
    "print(a[4:20:-1],b[4:20:-1])\n",
    "print(a[:1:-1],b[:1:-1])\n"
   ]
  },
  {
   "cell_type": "code",
   "execution_count": null,
   "metadata": {},
   "outputs": [],
   "source": []
  },
  {
   "cell_type": "code",
   "execution_count": null,
   "metadata": {},
   "outputs": [],
   "source": [
    "ak.v = False\n",
    "d = ak.arange(1,10,1)\n",
    "#d.type.__class__,d.name,d.isnative,np.int64.__class__,bool\n",
    "ak.info(d)\n",
    "#dir(d)"
   ]
  },
  {
   "cell_type": "code",
   "execution_count": null,
   "metadata": {},
   "outputs": [],
   "source": [
    "ak.v = False\n",
    "\n",
    "a = ak.ones(10,dtype=ak.bool)\n",
    "print(a[1])"
   ]
  },
  {
   "cell_type": "code",
   "execution_count": null,
   "metadata": {},
   "outputs": [],
   "source": [
    "ak.v = False\n",
    "\n",
    "a = ak.zeros(10,dtype=ak.bool)\n",
    "print(a[1])"
   ]
  },
  {
   "cell_type": "code",
   "execution_count": null,
   "metadata": {},
   "outputs": [],
   "source": [
    "ak.v = False\n",
    "a = ak.ones(10,dtype=ak.bool)\n",
    "a[4] = False\n",
    "a[1] = False\n",
    "print(a)\n",
    "print(a[::2])\n",
    "print(a[1])\n",
    "a = ak.ones(10,dtype=ak.int64)\n",
    "a[4] = False\n",
    "a[1] = False\n",
    "print(a)\n",
    "print(a[::2])\n",
    "print(a[1])\n",
    "a = ak.ones(10)\n",
    "a[4] = False\n",
    "a[1] = False\n",
    "print(a)\n",
    "print(a[::2])\n",
    "print(a[1])"
   ]
  },
  {
   "cell_type": "code",
   "execution_count": null,
   "metadata": {},
   "outputs": [],
   "source": [
    "ak.v = False\n",
    "\n",
    "a = ak.arange(0,10,1)\n",
    "b = list(a)\n",
    "print(b)\n",
    "\n",
    "a = a<5\n",
    "b = list(a)\n",
    "print(b)"
   ]
  },
  {
   "cell_type": "code",
   "execution_count": null,
   "metadata": {},
   "outputs": [],
   "source": [
    "ak.v = False\n",
    "a = ak.linspace(1,10,10)\n",
    "print(ak.abs(a))\n",
    "print(ak.log(a))\n",
    "print(ak.exp(a))\n",
    "a.fill(math.e)\n",
    "print(ak.log(a))"
   ]
  },
  {
   "cell_type": "code",
   "execution_count": null,
   "metadata": {},
   "outputs": [],
   "source": [
    "type(bool),type(np.bool),type(ak.bool),type(True)"
   ]
  },
  {
   "cell_type": "code",
   "execution_count": null,
   "metadata": {},
   "outputs": [],
   "source": [
    "ak.v = False\n",
    "N = 10**6\n",
    "a = ak.linspace(0,N-1,N)\n",
    "c = ak.arange(0,N,1)"
   ]
  },
  {
   "cell_type": "code",
   "execution_count": null,
   "metadata": {},
   "outputs": [],
   "source": [
    "print(a,ak.any(a),ak.all(a),ak.all(ak.ones(10,dtype=ak.float64)))\n",
    "b = a<5\n",
    "print(b,ak.any(b),ak.all(b),ak.all(ak.ones(10,dtype=ak.bool)))\n",
    "\n",
    "print(c,ak.any(c),ak.all(c),ak.all(ak.ones(10,dtype=ak.int64)))\n",
    "print(a.any(),a.all(),b.any(),b.all())"
   ]
  },
  {
   "cell_type": "code",
   "execution_count": null,
   "metadata": {},
   "outputs": [],
   "source": [
    "ak.v = False\n",
    "a = ak.linspace(0,9,10)\n",
    "ak.sum(a)\n",
    "b = np.linspace(0,9,10)\n",
    "print(ak.sum(a) == np.sum(b),ak.sum(a),np.sum(b),a.sum(),b.sum())"
   ]
  },
  {
   "cell_type": "code",
   "execution_count": null,
   "metadata": {},
   "outputs": [],
   "source": [
    "ak.v = False\n",
    "a = ak.linspace(1,10,10)\n",
    "b = np.linspace(1,10,10)\n",
    "print(ak.prod(a) == np.prod(b),ak.prod(a),np.prod(b),a.prod(),b.prod())"
   ]
  },
  {
   "cell_type": "code",
   "execution_count": null,
   "metadata": {},
   "outputs": [],
   "source": [
    "ak.v = False\n",
    "\n",
    "a = np.arange(0,20,1)\n",
    "b = a<10\n",
    "print(b,np.sum(b),b.sum(),np.prod(b),b.prod(),np.cumsum(b),np.cumprod(b))\n",
    "print()\n",
    "b = a<5\n",
    "print(b,np.sum(b),b.sum(),np.prod(b),b.prod(),np.cumsum(b),np.cumprod(b))\n",
    "print()\n",
    "a = ak.arange(0,20,1)\n",
    "b = a<10\n",
    "print(b,ak.sum(b),b.sum(),ak.prod(b),b.prod(),ak.cumsum(b),ak.cumprod(b))\n",
    "b = a<5\n",
    "print(b,ak.sum(b),b.sum(),ak.prod(b),b.prod(),ak.cumsum(b),ak.cumprod(b))\n"
   ]
  },
  {
   "cell_type": "code",
   "execution_count": null,
   "metadata": {},
   "outputs": [],
   "source": [
    "ak.v = False\n",
    "a = ak.arange(0,10,1)\n",
    "iv = a[::-1]\n",
    "print(a,iv,a[iv])"
   ]
  },
  {
   "cell_type": "code",
   "execution_count": null,
   "metadata": {},
   "outputs": [],
   "source": [
    "ak.v = False\n",
    "a = ak.arange(0,10,1)\n",
    "iv = a[::-1]\n",
    "print(a,iv,a[iv])"
   ]
  },
  {
   "cell_type": "code",
   "execution_count": null,
   "metadata": {},
   "outputs": [],
   "source": [
    "ak.v = False\n",
    "a = ak.linspace(0,9,10)\n",
    "iv = ak.arange(0,10,1)\n",
    "iv = iv[::-1]\n",
    "print(a,iv,a[iv])"
   ]
  },
  {
   "cell_type": "code",
   "execution_count": null,
   "metadata": {},
   "outputs": [],
   "source": [
    "ak.v = False\n",
    "a = np.arange(0,10,1)\n",
    "iv = a[::-1]\n",
    "print(a,iv,a[iv])"
   ]
  },
  {
   "cell_type": "code",
   "execution_count": null,
   "metadata": {},
   "outputs": [],
   "source": [
    "ak.v = False\n",
    "a = ak.arange(0,10,1)\n",
    "b = a<20\n",
    "print(a,b,a[b])"
   ]
  },
  {
   "cell_type": "code",
   "execution_count": null,
   "metadata": {},
   "outputs": [],
   "source": [
    "ak.v = False\n",
    "a = ak.arange(0,10,1)\n",
    "b = a<5\n",
    "print(a,b,a[b])"
   ]
  },
  {
   "cell_type": "code",
   "execution_count": null,
   "metadata": {},
   "outputs": [],
   "source": [
    "ak.v = False\n",
    "a = ak.arange(0,10,1)\n",
    "b = a<0\n",
    "print(a,b,a[b])"
   ]
  },
  {
   "cell_type": "code",
   "execution_count": null,
   "metadata": {},
   "outputs": [],
   "source": [
    "ak.v = False\n",
    "a = ak.linspace(0,9,10)\n",
    "b = a<5\n",
    "print(a,b,a[b])"
   ]
  },
  {
   "cell_type": "code",
   "execution_count": null,
   "metadata": {},
   "outputs": [],
   "source": [
    "ak.v = False\n",
    "N = 2**23 # 2**23 * 8 == 64MiB\n",
    "A = ak.linspace(0,N-1,N)\n",
    "B = ak.linspace(0,N-1,N)\n",
    "\n",
    "C = A+B\n",
    "print(ak.info(C),C)"
   ]
  },
  {
   "cell_type": "code",
   "execution_count": null,
   "metadata": {},
   "outputs": [],
   "source": [
    "# turn off verbose messages from arkouda package\n",
    "ak.v = False\n",
    "# set pdarrayIterThresh to 0 to only print the first 3 and last 3 of pdarray\n",
    "ak.pdarrayIterThresh = 0\n",
    "a = ak.linspace(0,9,10)\n",
    "b = a<5\n",
    "print(a)\n",
    "print(b)\n",
    "print(a[b])\n",
    "print(a)"
   ]
  },
  {
   "cell_type": "code",
   "execution_count": null,
   "metadata": {},
   "outputs": [],
   "source": [
    "\n",
    "a = np.linspace(0,9,10)\n",
    "b = a<5\n",
    "print(a)\n",
    "print(b)\n",
    "print(a[b])\n",
    "print(a)"
   ]
  },
  {
   "cell_type": "code",
   "execution_count": null,
   "metadata": {},
   "outputs": [],
   "source": [
    "ak.v = False\n",
    "ak.pdarrayIterThresh = 0\n",
    "\n",
    "a = ak.ones(10,ak.int64)\n",
    "b = a | 0xff\n",
    "print(a, b, a^b, b>>a, b<<1|1, 0xf & b, 0xaa ^ b, b ^ 0xff)\n",
    "print(-a,~(~a))"
   ]
  },
  {
   "cell_type": "code",
   "execution_count": null,
   "metadata": {},
   "outputs": [],
   "source": [
    "a = ak.ones(10,dtype=ak.int64)\n",
    "b = ~ak.zeros(10,dtype=ak.int64)\n",
    "print(~a, -b)"
   ]
  },
  {
   "cell_type": "code",
   "execution_count": null,
   "metadata": {},
   "outputs": [],
   "source": [
    "a = np.ones(10,dtype=np.int64)\n",
    "b = ~np.zeros(10,dtype=np.int64)\n",
    "print(~a, -b)"
   ]
  },
  {
   "cell_type": "code",
   "execution_count": null,
   "metadata": {},
   "outputs": [],
   "source": []
  },
  {
   "cell_type": "code",
   "execution_count": null,
   "metadata": {},
   "outputs": [],
   "source": []
  },
  {
   "cell_type": "code",
   "execution_count": null,
   "metadata": {},
   "outputs": [],
   "source": [
    "#ak.shutdown()\n"
   ]
  },
  {
   "cell_type": "code",
   "execution_count": null,
   "metadata": {},
   "outputs": [],
   "source": []
  }
 ],
 "metadata": {
  "kernelspec": {
   "display_name": "Python 3",
   "language": "python",
   "name": "python3"
  },
  "language_info": {
   "codemirror_mode": {
    "name": "ipython",
    "version": 3
   },
   "file_extension": ".py",
   "mimetype": "text/x-python",
   "name": "python",
   "nbconvert_exporter": "python",
   "pygments_lexer": "ipython3",
   "version": "3.7.2"
  }
 },
 "nbformat": 4,
 "nbformat_minor": 2
}
