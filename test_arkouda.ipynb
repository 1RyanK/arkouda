{
 "cells": [
  {
   "cell_type": "code",
   "execution_count": 1,
   "metadata": {},
   "outputs": [],
   "source": [
    "import importlib\n",
    "import numpy as np\n",
    "import math\n",
    "import gc"
   ]
  },
  {
   "cell_type": "code",
   "execution_count": 2,
   "metadata": {},
   "outputs": [],
   "source": [
    "import arkouda as ak"
   ]
  },
  {
   "cell_type": "code",
   "execution_count": 3,
   "metadata": {},
   "outputs": [
    {
     "data": {
      "text/plain": [
       "<module 'arkouda' from '/Users/valton/chapel/arkouda/arkouda/arkouda.py'>"
      ]
     },
     "execution_count": 3,
     "metadata": {},
     "output_type": "execute_result"
    }
   ],
   "source": [
    "importlib.reload(ak)"
   ]
  },
  {
   "cell_type": "code",
   "execution_count": 4,
   "metadata": {},
   "outputs": [
    {
     "name": "stdout",
     "output_type": "stream",
     "text": [
      "4.3.1\n",
      "psp =  tcp://localhost:5555\n",
      "connected to tcp://localhost:5555\n"
     ]
    }
   ],
   "source": [
    "ak.v = False\n",
    "ak.connect(server=\"localhost\", port=5555)"
   ]
  },
  {
   "cell_type": "code",
   "execution_count": 5,
   "metadata": {},
   "outputs": [
    {
     "name": "stdout",
     "output_type": "stream",
     "text": [
      "array([False, True, True, True, True, False, True, False, False, True])\n"
     ]
    }
   ],
   "source": [
    "a = ak.randint(0,2,10,dtype=ak.bool)\n",
    "a[1] = True\n",
    "a[2] = True\n",
    "print(a)"
   ]
  },
  {
   "cell_type": "code",
   "execution_count": 6,
   "metadata": {},
   "outputs": [
    {
     "name": "stdout",
     "output_type": "stream",
     "text": [
      "array([10, 1, 10, 1, 10, 1, 10, 1, 10, 1])\n"
     ]
    }
   ],
   "source": [
    "a = ak.ones(10,dtype=ak.int64)\n",
    "iv = ak.arange(0,10,1)[::2]\n",
    "a[iv] = 10\n",
    "print(a)"
   ]
  },
  {
   "cell_type": "code",
   "execution_count": 7,
   "metadata": {},
   "outputs": [
    {
     "name": "stdout",
     "output_type": "stream",
     "text": [
      "array([10, 1, 10, 1, 10, 1, 10, 1, 10, 1])\n"
     ]
    }
   ],
   "source": [
    "a = ak.ones(10)\n",
    "iv = ak.arange(0,10,1)[::2]\n",
    "a[iv] = 10.0\n",
    "print(a)"
   ]
  },
  {
   "cell_type": "code",
   "execution_count": 8,
   "metadata": {},
   "outputs": [
    {
     "name": "stdout",
     "output_type": "stream",
     "text": [
      "array([False, True, False, True, False, True, False, True, False, True])\n"
     ]
    }
   ],
   "source": [
    "a = ak.ones(10,dtype=ak.bool)\n",
    "iv = ak.arange(0,10,1)[::2]\n",
    "a[iv] = False\n",
    "print(a)"
   ]
  },
  {
   "cell_type": "code",
   "execution_count": 9,
   "metadata": {},
   "outputs": [
    {
     "name": "stdout",
     "output_type": "stream",
     "text": [
      "array([False, False, False, False, False, True, True, True, True, True])\n"
     ]
    }
   ],
   "source": [
    "a = ak.ones(10,dtype=ak.bool)\n",
    "iv = ak.arange(0,5,1)\n",
    "b = ak.zeros(iv.size,dtype=ak.bool)\n",
    "a[iv] = b\n",
    "print(a)"
   ]
  },
  {
   "cell_type": "code",
   "execution_count": 10,
   "metadata": {},
   "outputs": [
    {
     "name": "stdout",
     "output_type": "stream",
     "text": [
      "array([16, 17, 19, 17, 11, 19, 14, 13, 10, 17])\n",
      "array([9, 7, 1, 6, 7])\n",
      "array([16, 0, 19, 17, 11, 19, 0, 0, 10, 0])\n"
     ]
    }
   ],
   "source": [
    "a = ak.randint(10,20,10)\n",
    "print(a)\n",
    "iv = ak.randint(0,10,5)\n",
    "print(iv)\n",
    "b = ak.zeros(iv.size,dtype=ak.int64)\n",
    "a[iv] = b\n",
    "print(a)"
   ]
  },
  {
   "cell_type": "code",
   "execution_count": 11,
   "metadata": {},
   "outputs": [],
   "source": [
    "#ak.disconnect()"
   ]
  },
  {
   "cell_type": "code",
   "execution_count": 12,
   "metadata": {},
   "outputs": [
    {
     "name": "stdout",
     "output_type": "stream",
     "text": [
      "18 array([10, 11, 12, 13, 14, 15, 16, 17, 19, 20, 21, 23, 24, 25, 26, 27, 28, 29])\n",
      "18 array([1, 1, 4, 1, 3, 3, 2, 3, 3, 1, 1, 2, 4, 3, 2, 1, 2, 3])\n"
     ]
    }
   ],
   "source": [
    "ak.v = False\n",
    "a = ak.randint(10,30,40)\n",
    "vc = ak.value_counts(a)\n",
    "print(vc[0].size,vc[0])\n",
    "print(vc[1].size,vc[1])"
   ]
  },
  {
   "cell_type": "code",
   "execution_count": 13,
   "metadata": {},
   "outputs": [
    {
     "name": "stdout",
     "output_type": "stream",
     "text": [
      "array([0, 1, 2, 3, 4])\n"
     ]
    }
   ],
   "source": [
    "ak.v = False\n",
    "\n",
    "a = ak.arange(0,10,1)\n",
    "b = a[a<5]\n",
    "a = ak.linspace(0,9,10)\n",
    "b = a[a<5]\n",
    "print(b)"
   ]
  },
  {
   "cell_type": "code",
   "execution_count": 14,
   "metadata": {},
   "outputs": [
    {
     "name": "stdout",
     "output_type": "stream",
     "text": [
      "[Python] Sending request: arange 0 10 1\n",
      "[Python] Received response: created id_28 int64 10 1 (10) 8\n",
      "id_28 int64 10 1 [10] 8\n",
      "[Python] Sending request: delete id_25\n",
      "[Python] Received response: deleted id_25\n",
      "[Python] Sending request: [int] id_28 0\n",
      "[Python] Received response: item int64 0\n",
      "[Python] Sending request: [int] id_28 1\n",
      "[Python] Received response: item int64 1\n",
      "[Python] Sending request: [int] id_28 2\n",
      "[Python] Received response: item int64 2\n",
      "[Python] Sending request: [int] id_28 3\n",
      "[Python] Received response: item int64 3\n",
      "[Python] Sending request: [int] id_28 4\n",
      "[Python] Received response: item int64 4\n",
      "[Python] Sending request: [int] id_28 5\n",
      "[Python] Received response: item int64 5\n",
      "[Python] Sending request: [int] id_28 6\n",
      "[Python] Received response: item int64 6\n",
      "[Python] Sending request: [int] id_28 7\n",
      "[Python] Received response: item int64 7\n",
      "[Python] Sending request: [int] id_28 8\n",
      "[Python] Received response: item int64 8\n",
      "[Python] Sending request: [int] id_28 9\n",
      "[Python] Received response: item int64 9\n",
      "[0, 1, 2, 3, 4, 5, 6, 7, 8, 9]\n"
     ]
    }
   ],
   "source": [
    "ak.v = True\n",
    "ak.pdarrayIterThresh = 1000\n",
    "a = ak.arange(0,10,1)\n",
    "print(list(a))\n"
   ]
  },
  {
   "cell_type": "code",
   "execution_count": 15,
   "metadata": {},
   "outputs": [
    {
     "name": "stdout",
     "output_type": "stream",
     "text": [
      "array([29, 12, 24, 24, 14, 11, 29, 24, 19, 15, 16, 29, 23, 19, 17, 23, 20, 14, 16, 28, 19, 24, 12, 26, 26, 25, 25, 28, 10, 15, 14, 17, 27, 15, 12, 17, 13, 21, 25, 12])\n",
      "20 array([1, 1, 4, 1, 3, 3, 2, 3, 0, 3, 1, 1, 0, 2, 4, 3, 2, 1, 2, 3])\n",
      "18 array([10, 11, 12, 13, 14, 15, 16, 17, 19, 20, 21, 23, 24, 25, 26, 27, 28, 29])\n"
     ]
    }
   ],
   "source": [
    "ak.v = False\n",
    "a = ak.randint(10,30,40)\n",
    "u = ak.unique(a)\n",
    "h = ak.histogram(a,bins=20)\n",
    "print(a)\n",
    "print(h.size,h)\n",
    "print(u.size,u)"
   ]
  },
  {
   "cell_type": "code",
   "execution_count": 16,
   "metadata": {},
   "outputs": [
    {
     "name": "stdout",
     "output_type": "stream",
     "text": [
      "array([11, 24, 15, 29, 23, 19, 17, 28, 25, 19, 25, 24, 28, 29, 19, 14, 20, 14, 16, 29, 12, 24, 23, 24, 16, 10, 15, 17, 13, 21, 25, 12, 11, 14, 21, 22, 28, 22, 26, 14, 17, 27, 15, 12, 12, 26, 26, 24, 17, 24])\n",
      "array([1, 2, 4, 1, 4, 3, 2, 4, 0, 3, 1, 2, 2, 2, 6, 3, 3, 1, 3, 3])\n"
     ]
    }
   ],
   "source": [
    "ak.v = False\n",
    "a = ak.randint(10,30,50)\n",
    "h = ak.histogram(a,bins=20)\n",
    "print(a)\n",
    "print(h)"
   ]
  },
  {
   "cell_type": "code",
   "execution_count": 17,
   "metadata": {},
   "outputs": [
    {
     "name": "stdout",
     "output_type": "stream",
     "text": [
      "array([True, False, True, False, False, True, False, True, False, True, True, False, True, False, True, True, False, True, True, False, True, True, False, False, True, False, True, True, True, True, True, True, False, False, False, False, True, True, False, False, False, False, False, True, False, True, True, False, False, True])\n",
      "26\n"
     ]
    }
   ],
   "source": [
    "ak.v = False\n",
    "a = ak.randint(0,2,50,dtype=ak.bool)\n",
    "print(a)\n",
    "print(a.sum())"
   ]
  },
  {
   "cell_type": "code",
   "execution_count": 18,
   "metadata": {},
   "outputs": [
    {
     "name": "stdout",
     "output_type": "stream",
     "text": [
      "array([2, 2, 2, 2, 2, 2, 2, 2, 2, 2, 2, 2, 2, 2, 2, 2, 2, 2, 2, 2, 2, 2, 2, 2, 2, 2, 2, 2, 2, 2, 2, 2, 2, 2, 2, 2, 2, 2, 2, 2, 2, 2, 2, 2, 2, 2, 2, 2, 2, 2])\n"
     ]
    }
   ],
   "source": [
    "ak.v = False\n",
    "a = ak.linspace(101,102,100)\n",
    "h = ak.histogram(a,bins=50)\n",
    "print(h)"
   ]
  },
  {
   "cell_type": "code",
   "execution_count": 19,
   "metadata": {},
   "outputs": [
    {
     "name": "stdout",
     "output_type": "stream",
     "text": [
      "array([10, 10, 10, 10, 10, 10, 10, 10, 10, 10])\n"
     ]
    }
   ],
   "source": [
    "ak.v = False\n",
    "a = ak.arange(0,100,1)\n",
    "h = ak.histogram(a,bins=10)\n",
    "print(h)"
   ]
  },
  {
   "cell_type": "code",
   "execution_count": 20,
   "metadata": {},
   "outputs": [
    {
     "name": "stdout",
     "output_type": "stream",
     "text": [
      "array([0, 1, 2, 3, 4, 5, 6, 7, 8, 9, 10, 11, 12, 13, 14, 15, 16, 17, 18, 19, 20, 21, 22, 23, 24, 25, 26, 27, 28, 29, 30, 31, 32, 33, 34, 35, 36, 37, 38, 39, 40, 41, 42, 43, 44, 45, 46, 47, 48, 49, 50, 51, 52, 53, 54, 55, 56, 57, 58, 59, 60, 61, 62, 63, 64, 65, 66, 67, 68, 69, 70, 71, 72, 73, 74, 75, 76, 77, 78, 79, 80, 81, 82, 83, 84, 85, 86, 87, 88, 89, 90, 91, 92, 93, 94, 95, 96, 97, 98])\n",
      "array([90, 80, 70, 60, 50, 40, 30, 20, 10, 0])\n",
      "array([True, False, False, False, False, False, False, False, False, False, True, False, False, False, False, False, False, False, False, False, True, False, False, False, False, False, False, False, False, False, True, False, False, False, False, False, False, False, False, False, True, False, False, False, False, False, False, False, False, False, True, False, False, False, False, False, False, False, False, False, True, False, False, False, False, False, False, False, False, False, True, False, False, False, False, False, False, False, False, False, True, False, False, False, False, False, False, False, False, False, True, False, False, False, False, False, False, False, False])\n",
      "array([0, 10, 20, 30, 40, 50, 60, 70, 80, 90])\n"
     ]
    }
   ],
   "source": [
    "ak.v = False\n",
    "a = ak.arange(0,99,1)\n",
    "b = a[::10] # take every tenth one\n",
    "b = b[::-1] # reverse b\n",
    "print(a)\n",
    "print(b)\n",
    "c = ak.in1d(a,b) # put out truth vector\n",
    "print(c)\n",
    "print(a[c]) # compress out false values"
   ]
  },
  {
   "cell_type": "code",
   "execution_count": 21,
   "metadata": {},
   "outputs": [
    {
     "data": {
      "text/plain": [
       "(10,\n",
       " array([ 1,  2,  3,  4,  5,  6,  7,  8,  9, 10]),\n",
       " 4,\n",
       " array([0, 1, 2, 3]),\n",
       " array([ True,  True,  True,  True,  True, False, False, False, False,\n",
       "        False]))"
      ]
     },
     "execution_count": 21,
     "metadata": {},
     "output_type": "execute_result"
    }
   ],
   "source": [
    "ak.v = False\n",
    "a = np.ones(10,dtype=np.bool)\n",
    "b = np.arange(0,10,1)\n",
    "\n",
    "np.sum(a),np.cumsum(a),np.sum(b<4),b[b<4],b<5"
   ]
  },
  {
   "cell_type": "code",
   "execution_count": 22,
   "metadata": {},
   "outputs": [
    {
     "name": "stdout",
     "output_type": "stream",
     "text": [
      "array([0, 1, 2, 3, 4, 5, 6, 7, 8, 9]) float64 [0. 1. 2. 3. 4. 5. 6. 7. 8. 9.] float64\n",
      "array([0, 1, 2, 3, 4, 5, 6, 7, 8, 9]) int64 [0 1 2 3 4 5 6 7 8 9] int64\n",
      "array([True, True, True, True, True, True, True, True, True, True]) bool [ True  True  True  True  True  True  True  True  True  True] bool\n"
     ]
    }
   ],
   "source": [
    "ak.v = False\n",
    "# currently... ak pdarray to np array\n",
    "a = ak.linspace(0,9,10)\n",
    "b = np.array(list(a))\n",
    "print(a,a.dtype,b,b.dtype)\n",
    "\n",
    "a = ak.arange(0,10,1)\n",
    "b = np.array(list(a))\n",
    "print(a,a.dtype,b,b.dtype)\n",
    "\n",
    "a = ak.ones(10,dtype=ak.bool)\n",
    "b = np.array(list(a))\n",
    "print(a,a.dtype,b,b.dtype)\n"
   ]
  },
  {
   "cell_type": "code",
   "execution_count": 23,
   "metadata": {},
   "outputs": [
    {
     "name": "stdout",
     "output_type": "stream",
     "text": [
      "[1. 1. 1. 1. 1. 1. 1. 1. 1. 1.]\n"
     ]
    }
   ],
   "source": [
    "ak.v = False\n",
    "\n",
    "b = np.linspace(1,10,10)\n",
    "a = np.arange(1,11,1)\n",
    "print(b/a)"
   ]
  },
  {
   "cell_type": "code",
   "execution_count": 24,
   "metadata": {},
   "outputs": [
    {
     "name": "stdout",
     "output_type": "stream",
     "text": [
      "[ 0.  1.  2.  3.  4.  5.  6.  7.  8.  9. 10. 11. 12. 13. 14. 15. 16. 17.\n",
      " 18. 19. 20. 21. 22. 23. 24. 25. 26. 27. 28. 29. 30. 31. 32. 33. 34. 35.\n",
      " 36. 37. 38. 39. 40. 41. 42. 43. 44. 45. 46. 47. 48. 49. 50. 51. 52. 53.\n",
      " 54. 55. 56. 57. 58. 59. 60. 61. 62. 63. 64. 65. 66. 67. 68. 69. 70. 71.\n",
      " 72. 73. 74. 75. 76. 77. 78. 79. 80. 81. 82. 83. 84. 85. 86. 87. 88. 89.\n",
      " 90. 91. 92. 93. 94. 95. 96. 97. 98. 99.]\n"
     ]
    }
   ],
   "source": [
    "ak.v = False\n",
    "\n",
    "#a = np.ones(10000,dtype=np.int64)\n",
    "a = np.linspace(0,99,100)\n",
    "#a = np.arange(0,100,1)\n",
    "print(a)"
   ]
  },
  {
   "cell_type": "code",
   "execution_count": 25,
   "metadata": {},
   "outputs": [
    {
     "name": "stdout",
     "output_type": "stream",
     "text": [
      "array([ 0.,  1.,  2.,  3.,  4.,  5.,  6.,  7.,  8.,  9., 10., 11., 12.,\n",
      "       13., 14., 15., 16., 17., 18., 19., 20., 21., 22., 23., 24., 25.,\n",
      "       26., 27., 28., 29., 30., 31., 32., 33., 34., 35., 36., 37., 38.,\n",
      "       39., 40., 41., 42., 43., 44., 45., 46., 47., 48., 49., 50., 51.,\n",
      "       52., 53., 54., 55., 56., 57., 58., 59., 60., 61., 62., 63., 64.,\n",
      "       65., 66., 67., 68., 69., 70., 71., 72., 73., 74., 75., 76., 77.,\n",
      "       78., 79., 80., 81., 82., 83., 84., 85., 86., 87., 88., 89., 90.,\n",
      "       91., 92., 93., 94., 95., 96., 97., 98., 99.])\n",
      "[ 0.  1.  2.  3.  4.  5.  6.  7.  8.  9. 10. 11. 12. 13. 14. 15. 16. 17.\n",
      " 18. 19. 20. 21. 22. 23. 24. 25. 26. 27. 28. 29. 30. 31. 32. 33. 34. 35.\n",
      " 36. 37. 38. 39. 40. 41. 42. 43. 44. 45. 46. 47. 48. 49. 50. 51. 52. 53.\n",
      " 54. 55. 56. 57. 58. 59. 60. 61. 62. 63. 64. 65. 66. 67. 68. 69. 70. 71.\n",
      " 72. 73. 74. 75. 76. 77. 78. 79. 80. 81. 82. 83. 84. 85. 86. 87. 88. 89.\n",
      " 90. 91. 92. 93. 94. 95. 96. 97. 98. 99.]\n"
     ]
    }
   ],
   "source": [
    "ak.v = False\n",
    "print(a.__repr__())\n",
    "print(a.__str__())"
   ]
  },
  {
   "cell_type": "code",
   "execution_count": 26,
   "metadata": {},
   "outputs": [
    {
     "name": "stdout",
     "output_type": "stream",
     "text": [
      "[ 0.  1.  2.  3.  4.  5.  6.  7.  8.  9. 10. 11. 12. 13. 14. 15. 16. 17.\n",
      " 18. 19. 20. 21. 22. 23. 24. 25. 26. 27. 28. 29. 30. 31. 32. 33. 34. 35.\n",
      " 36. 37. 38. 39. 40. 41. 42. 43. 44. 45. 46. 47. 48. 49. 50. 51. 52. 53.\n",
      " 54. 55. 56. 57. 58. 59. 60. 61. 62. 63. 64. 65. 66. 67. 68. 69. 70. 71.\n",
      " 72. 73. 74. 75. 76. 77. 78. 79. 80. 81. 82. 83. 84. 85. 86. 87. 88. 89.\n",
      " 90. 91. 92. 93. 94. 95. 96. 97. 98. 99.]\n",
      "<class 'numpy.ndarray'> float64 100 1 (100,) 8\n"
     ]
    }
   ],
   "source": [
    "ak.v = False\n",
    "print(a)\n",
    "print(type(a), a.dtype, a.size, a.ndim, a.shape, a.itemsize)"
   ]
  },
  {
   "cell_type": "code",
   "execution_count": 27,
   "metadata": {},
   "outputs": [],
   "source": [
    "ak.v = False\n",
    "a = ak.arange(0,100,1)"
   ]
  },
  {
   "cell_type": "code",
   "execution_count": 28,
   "metadata": {},
   "outputs": [
    {
     "name": "stdout",
     "output_type": "stream",
     "text": [
      "array([0, 1, 2, ..., 97, 98, 99])\n"
     ]
    }
   ],
   "source": [
    "ak.v = False\n",
    "print(a)"
   ]
  },
  {
   "cell_type": "code",
   "execution_count": 29,
   "metadata": {},
   "outputs": [
    {
     "name": "stdout",
     "output_type": "stream",
     "text": [
      "array([0, 1, 2, ..., 97, 98, 99])\n"
     ]
    }
   ],
   "source": [
    "ak.v = False\n",
    "\n",
    "b = ak.linspace(0,99,100)\n",
    "print(b.__repr__())"
   ]
  },
  {
   "cell_type": "code",
   "execution_count": 30,
   "metadata": {},
   "outputs": [
    {
     "name": "stdout",
     "output_type": "stream",
     "text": [
      "id_50 10 int64 array([0, 1, 2, 3, 4, 5, 6, 7, 8, 9])\n",
      "id_49 10 float64 array([0, 1, 2, 3, 4, 5, 6, 7, 8, 9])\n",
      "name:\"id_51\" dtype:\"float64\" size:10 ndim:1 shape:(10) itemsize:8\n",
      "\n"
     ]
    }
   ],
   "source": [
    "ak.v = False\n",
    "b = ak.linspace(0,9,10)\n",
    "a = ak.arange(0,10,1)\n",
    "print(a.name, a.size, a.dtype, a)\n",
    "print(b.name, b.size, b.dtype, b)\n",
    "print(ak.info(a+b))"
   ]
  },
  {
   "cell_type": "code",
   "execution_count": 31,
   "metadata": {},
   "outputs": [
    {
     "name": "stdout",
     "output_type": "stream",
     "text": [
      "name:\"id_52\" dtype:\"int64\" size:10 ndim:1 shape:(10) itemsize:8\n",
      "\n",
      "id_52 int64 10 1 [10] 8\n",
      "array([0, 1, 2, 3, 4, 5, 6, 7, 8, 9])\n"
     ]
    }
   ],
   "source": [
    "ak.v = False\n",
    "\n",
    "c = ak.arange(0,10,1)\n",
    "print(ak.info(c))\n",
    "print(c.name, c.dtype, c.size, c.ndim, c.shape, c.itemsize)\n",
    "print(c)"
   ]
  },
  {
   "cell_type": "code",
   "execution_count": 32,
   "metadata": {},
   "outputs": [
    {
     "name": "stdout",
     "output_type": "stream",
     "text": [
      "array([10, 11, 12, 13, 14, 15, 16, 17, 18, 19])\n"
     ]
    }
   ],
   "source": [
    "ak.v = False\n",
    "\n",
    "print(5+c + 5)"
   ]
  },
  {
   "cell_type": "code",
   "execution_count": 33,
   "metadata": {},
   "outputs": [
    {
     "name": "stdout",
     "output_type": "stream",
     "text": [
      "array([10. , 11. , 12. , 13. , 14. , 15. , 16. , 17. , 18. , 19.1]) float64 dtype('float64')\n"
     ]
    }
   ],
   "source": [
    "c = np.array([10, 11, 12, 13, 14, 15, 16, 17, 18, 19])\n",
    "c = np.array([10, 11, 12, 13, 14, 15, 16, 17, 18, 19.1])\n",
    "print(c.__repr__(), c.dtype.__str__(), c.dtype.__repr__())"
   ]
  },
  {
   "cell_type": "code",
   "execution_count": 34,
   "metadata": {},
   "outputs": [
    {
     "name": "stdout",
     "output_type": "stream",
     "text": [
      "float64 int64\n",
      "float64 int64\n",
      "truediv  \n",
      "np out: [1.         0.5        0.33333333 0.25       0.2        0.16666667\n",
      " 0.14285714 0.125      0.11111111] \n",
      "ak out: array([1, 0.5, 0.33333333333333331, 0.25, 0.20000000000000001, 0.16666666666666666, 0.14285714285714285, 0.125, 0.1111111111111111])\n",
      "0.16666666666666666 0.16666666666666666 True\n",
      "floordiv \n",
      "np out: [1. 0. 0. 0. 0. 0. 0. 0. 0.] \n",
      "ak out: array([1, 0, 0, 0, 0, 0, 0, 0, 0])\n",
      "0.0 0.0 True\n"
     ]
    }
   ],
   "source": [
    "ak.v = False\n",
    "a = np.ones(9)\n",
    "b = np.arange(1,10,1)\n",
    "print(a.dtype,b.dtype)\n",
    "c = ak.ones(9)\n",
    "d = ak.arange(1,10,1)\n",
    "print(c.dtype,d.dtype)\n",
    "y = a/b\n",
    "z = c/d\n",
    "print(\"truediv  \\nnp out:\",y,\"\\nak out:\",z)\n",
    "print(y[5],z[5],y[5] ==z[5])\n",
    "y = a//b\n",
    "z = c//d\n",
    "print(\"floordiv \\nnp out:\",y,\"\\nak out:\",z)\n",
    "print(y[5],z[5],y[5] ==z[5])"
   ]
  },
  {
   "cell_type": "code",
   "execution_count": 35,
   "metadata": {},
   "outputs": [
    {
     "name": "stdout",
     "output_type": "stream",
     "text": [
      "array([1, 1, 1, 1, 1, 1, 1, 1, 1])\n",
      "array([2, 2, 2, 2, 2, 2, 2, 2, 2])\n",
      "array([4, 4, 4, 4, 4, 4, 4, 4, 4])\n"
     ]
    }
   ],
   "source": [
    "ak.v = False\n",
    "\n",
    "c = ak.arange(1,10,1)\n",
    "c //= c\n",
    "print(c)\n",
    "c += c\n",
    "print(c)\n",
    "c *= c\n",
    "print(c)"
   ]
  },
  {
   "cell_type": "code",
   "execution_count": 36,
   "metadata": {},
   "outputs": [
    {
     "name": "stdout",
     "output_type": "stream",
     "text": [
      "[1 1 1 1 1 1 1 1 1]\n"
     ]
    }
   ],
   "source": [
    "ak.v = False\n",
    "\n",
    "a = np.ones(9,dtype=np.int64)\n",
    "b = np.ones_like(a)\n",
    "print(b)"
   ]
  },
  {
   "cell_type": "code",
   "execution_count": 37,
   "metadata": {},
   "outputs": [
    {
     "name": "stdout",
     "output_type": "stream",
     "text": [
      "array([1, 1, 1, 1, 1, 1, 1, 1, 1])\n"
     ]
    }
   ],
   "source": [
    "ak.v = False\n",
    "\n",
    "a = ak.ones(9,dtype=ak.int64)\n",
    "b = ak.ones_like(a)\n",
    "print(b)"
   ]
  },
  {
   "cell_type": "code",
   "execution_count": 38,
   "metadata": {},
   "outputs": [
    {
     "name": "stdout",
     "output_type": "stream",
     "text": [
      "True\n"
     ]
    }
   ],
   "source": [
    "ak.v = False\n",
    "\n",
    "a = ak.arange(0,10,1)\n",
    "b = np.arange(0,10,1)\n",
    "\n",
    "print(a[5] == b[5])"
   ]
  },
  {
   "cell_type": "code",
   "execution_count": 39,
   "metadata": {},
   "outputs": [
    {
     "name": "stdout",
     "output_type": "stream",
     "text": [
      "10\n"
     ]
    }
   ],
   "source": [
    "ak.v = False\n",
    "\n",
    "a = ak.arange(0,10,1)\n",
    "b = np.arange(0,10,1)\n",
    "\n",
    "a[5] = 10.2\n",
    "print(a[5])"
   ]
  },
  {
   "cell_type": "code",
   "execution_count": 40,
   "metadata": {},
   "outputs": [
    {
     "name": "stdout",
     "output_type": "stream",
     "text": [
      "array([]) []\n",
      "array([9, 8, 7, 6, 5, 4, 3, 2]) [9 8 7 6 5 4 3 2]\n"
     ]
    }
   ],
   "source": [
    "ak.v = False\n",
    "\n",
    "a = ak.arange(0,10,1)\n",
    "b = np.arange(0,10,1)\n",
    "#print((a[:]),b[:])\n",
    "#print(a[1:-1:2],b[1:-1:2])\n",
    "#print(a[0:10:2],b[0:10:2])\n",
    "print(a[4:20:-1],b[4:20:-1])\n",
    "print(a[:1:-1],b[:1:-1])\n"
   ]
  },
  {
   "cell_type": "code",
   "execution_count": null,
   "metadata": {},
   "outputs": [],
   "source": []
  },
  {
   "cell_type": "code",
   "execution_count": 41,
   "metadata": {},
   "outputs": [
    {
     "data": {
      "text/plain": [
       "'name:\"id_67\" dtype:\"int64\" size:9 ndim:1 shape:(9) itemsize:8\\n'"
      ]
     },
     "execution_count": 41,
     "metadata": {},
     "output_type": "execute_result"
    }
   ],
   "source": [
    "ak.v = False\n",
    "d = ak.arange(1,10,1)\n",
    "#d.type.__class__,d.name,d.isnative,np.int64.__class__,bool\n",
    "ak.info(d)\n",
    "#dir(d)"
   ]
  },
  {
   "cell_type": "code",
   "execution_count": 42,
   "metadata": {},
   "outputs": [
    {
     "name": "stdout",
     "output_type": "stream",
     "text": [
      "True\n"
     ]
    }
   ],
   "source": [
    "ak.v = False\n",
    "\n",
    "a = ak.ones(10,dtype=ak.bool)\n",
    "print(a[1])"
   ]
  },
  {
   "cell_type": "code",
   "execution_count": 43,
   "metadata": {},
   "outputs": [
    {
     "name": "stdout",
     "output_type": "stream",
     "text": [
      "False\n"
     ]
    }
   ],
   "source": [
    "ak.v = False\n",
    "\n",
    "a = ak.zeros(10,dtype=ak.bool)\n",
    "print(a[1])"
   ]
  },
  {
   "cell_type": "code",
   "execution_count": 44,
   "metadata": {},
   "outputs": [
    {
     "name": "stdout",
     "output_type": "stream",
     "text": [
      "array([True, False, True, True, False, True, True, True, True, True])\n",
      "array([True, True, False, True, True])\n",
      "False\n",
      "array([1, 0, 1, 1, 0, 1, 1, 1, 1, 1])\n",
      "array([1, 1, 0, 1, 1])\n",
      "0\n",
      "array([1, 0, 1, 1, 0, 1, 1, 1, 1, 1])\n",
      "array([1, 1, 0, 1, 1])\n",
      "0.0\n"
     ]
    }
   ],
   "source": [
    "ak.v = False\n",
    "a = ak.ones(10,dtype=ak.bool)\n",
    "a[4] = False\n",
    "a[1] = False\n",
    "print(a)\n",
    "print(a[::2])\n",
    "print(a[1])\n",
    "a = ak.ones(10,dtype=ak.int64)\n",
    "a[4] = False\n",
    "a[1] = False\n",
    "print(a)\n",
    "print(a[::2])\n",
    "print(a[1])\n",
    "a = ak.ones(10)\n",
    "a[4] = False\n",
    "a[1] = False\n",
    "print(a)\n",
    "print(a[::2])\n",
    "print(a[1])"
   ]
  },
  {
   "cell_type": "code",
   "execution_count": 45,
   "metadata": {},
   "outputs": [
    {
     "name": "stdout",
     "output_type": "stream",
     "text": [
      "[0, 1, 2, 3, 4, 5, 6, 7, 8, 9]\n",
      "[True, True, True, True, True, False, False, False, False, False]\n"
     ]
    }
   ],
   "source": [
    "ak.v = False\n",
    "\n",
    "a = ak.arange(0,10,1)\n",
    "b = list(a)\n",
    "print(b)\n",
    "\n",
    "a = a<5\n",
    "b = list(a)\n",
    "print(b)"
   ]
  },
  {
   "cell_type": "code",
   "execution_count": 46,
   "metadata": {},
   "outputs": [
    {
     "name": "stdout",
     "output_type": "stream",
     "text": [
      "array([1, 2, 3, 4, 5, 6, 7, 8, 9, 10])\n",
      "array([0, 0.69314718055994529, 1.0986122886681098, 1.3862943611198906, 1.6094379124341003, 1.791759469228055, 1.9459101490553132, 2.0794415416798357, 2.1972245773362196, 2.3025850929940459])\n",
      "array([2.7182818284590451, 7.3890560989306504, 20.085536923187668, 54.598150033144236, 148.4131591025766, 403.42879349273511, 1096.6331584284585, 2980.9579870417283, 8103.0839275753842, 22026.465794806718])\n",
      "array([1, 1, 1, 1, 1, 1, 1, 1, 1, 1])\n"
     ]
    }
   ],
   "source": [
    "ak.v = False\n",
    "a = ak.linspace(1,10,10)\n",
    "print(ak.abs(a))\n",
    "print(ak.log(a))\n",
    "print(ak.exp(a))\n",
    "a.fill(math.e)\n",
    "print(ak.log(a))"
   ]
  },
  {
   "cell_type": "code",
   "execution_count": 47,
   "metadata": {},
   "outputs": [
    {
     "data": {
      "text/plain": [
       "(type, type, str, bool)"
      ]
     },
     "execution_count": 47,
     "metadata": {},
     "output_type": "execute_result"
    }
   ],
   "source": [
    "type(bool),type(np.bool),type(ak.bool),type(True)"
   ]
  },
  {
   "cell_type": "code",
   "execution_count": 48,
   "metadata": {},
   "outputs": [],
   "source": [
    "ak.v = False\n",
    "N = 10**6\n",
    "a = ak.linspace(0,N-1,N)\n",
    "c = ak.arange(0,N,1)"
   ]
  },
  {
   "cell_type": "code",
   "execution_count": 49,
   "metadata": {},
   "outputs": [
    {
     "name": "stdout",
     "output_type": "stream",
     "text": [
      "array([0, 1, 2, ..., 999997, 999998, 999999]) True False True\n",
      "array([True, True, True, ..., False, False, False]) True False True\n",
      "array([0, 1, 2, ..., 999997, 999998, 999999]) True False True\n",
      "True False True False\n"
     ]
    }
   ],
   "source": [
    "print(a,ak.any(a),ak.all(a),ak.all(ak.ones(10,dtype=ak.float64)))\n",
    "b = a<5\n",
    "print(b,ak.any(b),ak.all(b),ak.all(ak.ones(10,dtype=ak.bool)))\n",
    "\n",
    "print(c,ak.any(c),ak.all(c),ak.all(ak.ones(10,dtype=ak.int64)))\n",
    "print(a.any(),a.all(),b.any(),b.all())"
   ]
  },
  {
   "cell_type": "code",
   "execution_count": 50,
   "metadata": {},
   "outputs": [
    {
     "name": "stdout",
     "output_type": "stream",
     "text": [
      "True 45.0 45.0 45.0 45.0\n"
     ]
    }
   ],
   "source": [
    "ak.v = False\n",
    "a = ak.linspace(0,9,10)\n",
    "ak.sum(a)\n",
    "b = np.linspace(0,9,10)\n",
    "print(ak.sum(a) == np.sum(b),ak.sum(a),np.sum(b),a.sum(),b.sum())"
   ]
  },
  {
   "cell_type": "code",
   "execution_count": 51,
   "metadata": {},
   "outputs": [
    {
     "name": "stdout",
     "output_type": "stream",
     "text": [
      "True 3628800.0 3628800.0 3628800.0 3628800.0\n"
     ]
    }
   ],
   "source": [
    "ak.v = False\n",
    "a = ak.linspace(1,10,10)\n",
    "b = np.linspace(1,10,10)\n",
    "print(ak.prod(a) == np.prod(b),ak.prod(a),np.prod(b),a.prod(),b.prod())"
   ]
  },
  {
   "cell_type": "code",
   "execution_count": 52,
   "metadata": {},
   "outputs": [
    {
     "name": "stdout",
     "output_type": "stream",
     "text": [
      "[ True  True  True  True  True  True  True  True  True  True False False\n",
      " False False False False False False False False] 10 10 0 0 [ 1  2  3  4  5  6  7  8  9 10 10 10 10 10 10 10 10 10 10 10] [1 1 1 1 1 1 1 1 1 1 0 0 0 0 0 0 0 0 0 0]\n",
      "\n",
      "[ True  True  True  True  True False False False False False False False\n",
      " False False False False False False False False] 5 5 0 0 [1 2 3 4 5 5 5 5 5 5 5 5 5 5 5 5 5 5 5 5] [1 1 1 1 1 0 0 0 0 0 0 0 0 0 0 0 0 0 0 0]\n",
      "\n",
      "array([True, True, True, True, True, True, True, True, True, True, False, False, False, False, False, False, False, False, False, False]) 10 10 0 0 array([1, 2, 3, 4, 5, 6, 7, 8, 9, 10, 10, 10, 10, 10, 10, 10, 10, 10, 10, 10]) array([2, 2, 2, 2, 2, 2, 2, 2, 2, 2, 0, 0, 0, 0, 0, 0, 0, 0, 0, 0])\n",
      "array([True, True, True, True, True, False, False, False, False, False, False, False, False, False, False, False, False, False, False, False]) 5 5 0 0 array([1, 2, 3, 4, 5, 5, 5, 5, 5, 5, 5, 5, 5, 5, 5, 5, 5, 5, 5, 5]) array([2, 2, 2, 2, 2, 0, 0, 0, 0, 0, 0, 0, 0, 0, 0, 0, 0, 0, 0, 0])\n"
     ]
    }
   ],
   "source": [
    "ak.v = False\n",
    "\n",
    "a = np.arange(0,20,1)\n",
    "b = a<10\n",
    "print(b,np.sum(b),b.sum(),np.prod(b),b.prod(),np.cumsum(b),np.cumprod(b))\n",
    "print()\n",
    "b = a<5\n",
    "print(b,np.sum(b),b.sum(),np.prod(b),b.prod(),np.cumsum(b),np.cumprod(b))\n",
    "print()\n",
    "a = ak.arange(0,20,1)\n",
    "b = a<10\n",
    "print(b,ak.sum(b),b.sum(),ak.prod(b),b.prod(),ak.cumsum(b),ak.cumprod(b))\n",
    "b = a<5\n",
    "print(b,ak.sum(b),b.sum(),ak.prod(b),b.prod(),ak.cumsum(b),ak.cumprod(b))\n"
   ]
  },
  {
   "cell_type": "code",
   "execution_count": 53,
   "metadata": {},
   "outputs": [
    {
     "name": "stdout",
     "output_type": "stream",
     "text": [
      "array([0, 1, 2, 3, 4, 5, 6, 7, 8, 9]) array([9, 8, 7, 6, 5, 4, 3, 2, 1, 0]) array([9, 8, 7, 6, 5, 4, 3, 2, 1, 0])\n"
     ]
    }
   ],
   "source": [
    "ak.v = False\n",
    "a = ak.arange(0,10,1)\n",
    "iv = a[::-1]\n",
    "print(a,iv,a[iv])"
   ]
  },
  {
   "cell_type": "code",
   "execution_count": 54,
   "metadata": {},
   "outputs": [
    {
     "name": "stdout",
     "output_type": "stream",
     "text": [
      "array([0, 1, 2, 3, 4, 5, 6, 7, 8, 9]) array([9, 8, 7, 6, 5, 4, 3, 2, 1, 0]) array([9, 8, 7, 6, 5, 4, 3, 2, 1, 0])\n"
     ]
    }
   ],
   "source": [
    "ak.v = False\n",
    "a = ak.arange(0,10,1)\n",
    "iv = a[::-1]\n",
    "print(a,iv,a[iv])"
   ]
  },
  {
   "cell_type": "code",
   "execution_count": 55,
   "metadata": {},
   "outputs": [
    {
     "name": "stdout",
     "output_type": "stream",
     "text": [
      "array([0, 1, 2, 3, 4, 5, 6, 7, 8, 9]) array([9, 8, 7, 6, 5, 4, 3, 2, 1, 0]) array([9, 8, 7, 6, 5, 4, 3, 2, 1, 0])\n"
     ]
    }
   ],
   "source": [
    "ak.v = False\n",
    "a = ak.linspace(0,9,10)\n",
    "iv = ak.arange(0,10,1)\n",
    "iv = iv[::-1]\n",
    "print(a,iv,a[iv])"
   ]
  },
  {
   "cell_type": "code",
   "execution_count": 56,
   "metadata": {},
   "outputs": [
    {
     "name": "stdout",
     "output_type": "stream",
     "text": [
      "[0 1 2 3 4 5 6 7 8 9] [9 8 7 6 5 4 3 2 1 0] [9 8 7 6 5 4 3 2 1 0]\n"
     ]
    }
   ],
   "source": [
    "ak.v = False\n",
    "a = np.arange(0,10,1)\n",
    "iv = a[::-1]\n",
    "print(a,iv,a[iv])"
   ]
  },
  {
   "cell_type": "code",
   "execution_count": 57,
   "metadata": {},
   "outputs": [
    {
     "name": "stdout",
     "output_type": "stream",
     "text": [
      "array([0, 1, 2, 3, 4, 5, 6, 7, 8, 9]) array([True, True, True, True, True, True, True, True, True, True]) array([0, 1, 2, 3, 4, 5, 6, 7, 8, 9])\n"
     ]
    }
   ],
   "source": [
    "ak.v = False\n",
    "a = ak.arange(0,10,1)\n",
    "b = a<20\n",
    "print(a,b,a[b])"
   ]
  },
  {
   "cell_type": "code",
   "execution_count": 58,
   "metadata": {},
   "outputs": [
    {
     "name": "stdout",
     "output_type": "stream",
     "text": [
      "array([0, 1, 2, 3, 4, 5, 6, 7, 8, 9]) array([True, True, True, True, True, False, False, False, False, False]) array([0, 1, 2, 3, 4])\n"
     ]
    }
   ],
   "source": [
    "ak.v = False\n",
    "a = ak.arange(0,10,1)\n",
    "b = a<5\n",
    "print(a,b,a[b])"
   ]
  },
  {
   "cell_type": "code",
   "execution_count": 59,
   "metadata": {},
   "outputs": [
    {
     "name": "stdout",
     "output_type": "stream",
     "text": [
      "array([0, 1, 2, 3, 4, 5, 6, 7, 8, 9]) array([False, False, False, False, False, False, False, False, False, False]) array([])\n"
     ]
    }
   ],
   "source": [
    "ak.v = False\n",
    "a = ak.arange(0,10,1)\n",
    "b = a<0\n",
    "print(a,b,a[b])"
   ]
  },
  {
   "cell_type": "code",
   "execution_count": 60,
   "metadata": {},
   "outputs": [
    {
     "name": "stdout",
     "output_type": "stream",
     "text": [
      "array([0, 1, 2, 3, 4, 5, 6, 7, 8, 9]) array([True, True, True, True, True, False, False, False, False, False]) array([0, 1, 2, 3, 4])\n"
     ]
    }
   ],
   "source": [
    "ak.v = False\n",
    "a = ak.linspace(0,9,10)\n",
    "b = a<5\n",
    "print(a,b,a[b])"
   ]
  },
  {
   "cell_type": "code",
   "execution_count": 61,
   "metadata": {},
   "outputs": [
    {
     "name": "stdout",
     "output_type": "stream",
     "text": [
      "name:\"id_122\" dtype:\"float64\" size:8388608 ndim:1 shape:(8388608) itemsize:8\n",
      " array([0, 2, 4, ..., 16777210, 16777212, 16777214])\n"
     ]
    }
   ],
   "source": [
    "ak.v = False\n",
    "N = 2**23 # 2**23 * 8 == 64MiB\n",
    "A = ak.linspace(0,N-1,N)\n",
    "B = ak.linspace(0,N-1,N)\n",
    "\n",
    "C = A+B\n",
    "print(ak.info(C),C)"
   ]
  },
  {
   "cell_type": "code",
   "execution_count": 62,
   "metadata": {},
   "outputs": [
    {
     "name": "stdout",
     "output_type": "stream",
     "text": [
      "array([0, 1, 2, 3, 4, 5, 6, 7, 8, 9])\n",
      "array([True, True, True, True, True, False, False, False, False, False])\n",
      "array([0, 1, 2, 3, 4])\n",
      "array([0, 1, 2, 3, 4, 5, 6, 7, 8, 9])\n"
     ]
    }
   ],
   "source": [
    "# turn off verbose messages from arkouda package\n",
    "ak.v = False\n",
    "# set pdarrayIterThresh to 0 to only print the first 3 and last 3 of pdarray\n",
    "ak.pdarrayIterThresh = 0\n",
    "a = ak.linspace(0,9,10)\n",
    "b = a<5\n",
    "print(a)\n",
    "print(b)\n",
    "print(a[b])\n",
    "print(a)"
   ]
  },
  {
   "cell_type": "code",
   "execution_count": 63,
   "metadata": {},
   "outputs": [
    {
     "name": "stdout",
     "output_type": "stream",
     "text": [
      "[0. 1. 2. 3. 4. 5. 6. 7. 8. 9.]\n",
      "[ True  True  True  True  True False False False False False]\n",
      "[0. 1. 2. 3. 4.]\n",
      "[0. 1. 2. 3. 4. 5. 6. 7. 8. 9.]\n"
     ]
    }
   ],
   "source": [
    "\n",
    "a = np.linspace(0,9,10)\n",
    "b = a<5\n",
    "print(a)\n",
    "print(b)\n",
    "print(a[b])\n",
    "print(a)"
   ]
  },
  {
   "cell_type": "code",
   "execution_count": 64,
   "metadata": {},
   "outputs": [
    {
     "name": "stdout",
     "output_type": "stream",
     "text": [
      "array([1, 1, 1, 1, 1, 1, 1, 1, 1, 1]) array([255, 255, 255, 255, 255, 255, 255, 255, 255, 255]) array([254, 254, 254, 254, 254, 254, 254, 254, 254, 254]) array([127, 127, 127, 127, 127, 127, 127, 127, 127, 127]) array([511, 511, 511, 511, 511, 511, 511, 511, 511, 511]) array([15, 15, 15, 15, 15, 15, 15, 15, 15, 15]) array([85, 85, 85, 85, 85, 85, 85, 85, 85, 85]) array([0, 0, 0, 0, 0, 0, 0, 0, 0, 0])\n",
      "array([-1, -1, -1, -1, -1, -1, -1, -1, -1, -1]) array([1, 1, 1, 1, 1, 1, 1, 1, 1, 1])\n"
     ]
    }
   ],
   "source": [
    "ak.v = False\n",
    "ak.pdarrayIterThresh = 0\n",
    "\n",
    "a = ak.ones(10,ak.int64)\n",
    "b = a | 0xff\n",
    "print(a, b, a^b, b>>a, b<<1|1, 0xf & b, 0xaa ^ b, b ^ 0xff)\n",
    "print(-a,~(~a))"
   ]
  },
  {
   "cell_type": "code",
   "execution_count": 65,
   "metadata": {},
   "outputs": [
    {
     "name": "stdout",
     "output_type": "stream",
     "text": [
      "array([-2, -2, -2, -2, -2, -2, -2, -2, -2, -2]) array([1, 1, 1, 1, 1, 1, 1, 1, 1, 1])\n"
     ]
    }
   ],
   "source": [
    "a = ak.ones(10,dtype=ak.int64)\n",
    "b = ~ak.zeros(10,dtype=ak.int64)\n",
    "print(~a, -b)"
   ]
  },
  {
   "cell_type": "code",
   "execution_count": 66,
   "metadata": {},
   "outputs": [
    {
     "name": "stdout",
     "output_type": "stream",
     "text": [
      "[-2 -2 -2 -2 -2 -2 -2 -2 -2 -2] [1 1 1 1 1 1 1 1 1 1]\n"
     ]
    }
   ],
   "source": [
    "a = np.ones(10,dtype=np.int64)\n",
    "b = ~np.zeros(10,dtype=np.int64)\n",
    "print(~a, -b)"
   ]
  },
  {
   "cell_type": "code",
   "execution_count": null,
   "metadata": {},
   "outputs": [],
   "source": []
  },
  {
   "cell_type": "code",
   "execution_count": null,
   "metadata": {},
   "outputs": [],
   "source": []
  },
  {
   "cell_type": "code",
   "execution_count": 67,
   "metadata": {},
   "outputs": [],
   "source": [
    "#ak.shutdown()\n"
   ]
  },
  {
   "cell_type": "code",
   "execution_count": null,
   "metadata": {},
   "outputs": [],
   "source": []
  }
 ],
 "metadata": {
  "kernelspec": {
   "display_name": "Python 3",
   "language": "python",
   "name": "python3"
  },
  "language_info": {
   "codemirror_mode": {
    "name": "ipython",
    "version": 3
   },
   "file_extension": ".py",
   "mimetype": "text/x-python",
   "name": "python",
   "nbconvert_exporter": "python",
   "pygments_lexer": "ipython3",
   "version": "3.7.2"
  }
 },
 "nbformat": 4,
 "nbformat_minor": 2
}
