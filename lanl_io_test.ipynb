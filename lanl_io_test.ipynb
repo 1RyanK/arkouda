{
 "cells": [
  {
   "cell_type": "code",
   "execution_count": 1,
   "metadata": {},
   "outputs": [],
   "source": [
    "import importlib\n",
    "import sys, time\n",
    "import arkouda as ak"
   ]
  },
  {
   "cell_type": "code",
   "execution_count": 2,
   "metadata": {},
   "outputs": [
    {
     "data": {
      "text/plain": [
       "<module 'arkouda' from '/Users/valton/chapel/arkouda/arkouda/arkouda.py'>"
      ]
     },
     "execution_count": 2,
     "metadata": {},
     "output_type": "execute_result"
    }
   ],
   "source": [
    "importlib.reload(ak)"
   ]
  },
  {
   "cell_type": "code",
   "execution_count": 3,
   "metadata": {},
   "outputs": [
    {
     "name": "stdout",
     "output_type": "stream",
     "text": [
      "4.3.1\n",
      "psp =  tcp://localhost:5555\n",
      "connected to tcp://localhost:5555\n"
     ]
    }
   ],
   "source": [
    "ak.set_defaults()\n",
    "ak.v = False\n",
    "ak.connect(server=\"localhost\", port=5555)"
   ]
  },
  {
   "cell_type": "code",
   "execution_count": 4,
   "metadata": {},
   "outputs": [],
   "source": [
    "filenames = ['/Users/valton/lanl_netflow/hdf5/netflow_day-02-00.hdf']\n"
   ]
  },
  {
   "cell_type": "code",
   "execution_count": 5,
   "metadata": {},
   "outputs": [],
   "source": [
    "names = ['start', 'duration',\n",
    "         'srcIP', 'dstIP',\n",
    "         'proto', \n",
    "         'srcPort', 'dstPort',\n",
    "         'srcPkts', 'dstPkts',\n",
    "         'srcBytes', 'dstBytes']\n"
   ]
  },
  {
   "cell_type": "code",
   "execution_count": 6,
   "metadata": {},
   "outputs": [
    {
     "name": "stdout",
     "output_type": "stream",
     "text": [
      "[118781 118783 118785 ... 122591 122591 122591]\n",
      "0.11 seconds (7.16e+08 bytes/sec)\n"
     ]
    }
   ],
   "source": [
    "start = time.time()\n",
    "nfStart = ak.read_hdf(names[0], filenames)\n",
    "end = time.time()\n",
    "t = end - start\n",
    "print(nfStart)\n",
    "print(f'{t:.2f} seconds ({8*nfStart.size/t:.2e} bytes/sec)')"
   ]
  },
  {
   "cell_type": "code",
   "execution_count": 7,
   "metadata": {},
   "outputs": [
    {
     "name": "stdout",
     "output_type": "stream",
     "text": [
      "[34111590301 34111676798 48764590996 ... 34111442184 34111442184 34111493012]\n",
      "0.20 seconds (3.99e+08 bytes/sec)\n"
     ]
    }
   ],
   "source": [
    "start = time.time()\n",
    "nfSrcIP = ak.read_hdf(names[2], filenames)\n",
    "end = time.time()\n",
    "t = end - start\n",
    "print(nfSrcIP)\n",
    "print(f'{t:.2f} seconds ({8*nfSrcIP.size/t:.2e} bytes/sec)')"
   ]
  },
  {
   "cell_type": "code",
   "execution_count": 8,
   "metadata": {},
   "outputs": [
    {
     "name": "stdout",
     "output_type": "stream",
     "text": [
      "[34111773101 34112055194 34111367844 ... 34111412740 34111412740 34111501502]\n",
      "0.17 seconds (4.65e+08 bytes/sec)\n"
     ]
    }
   ],
   "source": [
    "start = time.time()\n",
    "nfDstIP = ak.read_hdf(names[3], filenames)\n",
    "end = time.time()\n",
    "t = end - start\n",
    "print(nfDstIP)\n",
    "print(f'{t:.2f} seconds ({8*nfDstIP.size/t:.2e} bytes/sec)')"
   ]
  },
  {
   "cell_type": "code",
   "execution_count": 9,
   "metadata": {},
   "outputs": [],
   "source": [
    "nfDF = {names[0]:nfStart, names[2]:nfSrcIP, names[3]:nfDstIP}"
   ]
  },
  {
   "cell_type": "code",
   "execution_count": 10,
   "metadata": {},
   "outputs": [
    {
     "name": "stdout",
     "output_type": "stream",
     "text": [
      "[118781 118783 118785 ... 122591 122591 122591]\n",
      "[34111590301 34111676798 48764590996 ... 34111442184 34111442184 34111493012]\n",
      "[34111773101 34112055194 34111367844 ... 34111412740 34111412740 34111501502]\n",
      "{'start': array([118781, 118783, 118785, ..., 122591, 122591, 122591]), 'srcIP': array([34111590301, 34111676798, 48764590996, ..., 34111442184, 34111442184, 34111493012]), 'dstIP': array([34111773101, 34112055194, 34111367844, ..., 34111412740, 34111412740, 34111501502])}\n"
     ]
    }
   ],
   "source": [
    "print(nfDF['start'])\n",
    "print(nfDF['srcIP'])\n",
    "print(nfDF['dstIP'])\n",
    "print(nfDF)"
   ]
  },
  {
   "cell_type": "code",
   "execution_count": 11,
   "metadata": {},
   "outputs": [
    {
     "name": "stdout",
     "output_type": "stream",
     "text": [
      "name:\"id_9\" dtype:\"int64\" size:10000000 ndim:1 shape:(10000000) itemsize:8\n",
      "name:\"id_10\" dtype:\"int64\" size:10000000 ndim:1 shape:(10000000) itemsize:8\n",
      "name:\"id_11\" dtype:\"int64\" size:10000000 ndim:1 shape:(10000000) itemsize:8\n",
      "\n"
     ]
    }
   ],
   "source": [
    "print(ak.info(ak.AllSymbols))"
   ]
  },
  {
   "cell_type": "code",
   "execution_count": null,
   "metadata": {},
   "outputs": [],
   "source": [
    "#ak.shutdown()"
   ]
  }
 ],
 "metadata": {
  "kernelspec": {
   "display_name": "Python 3",
   "language": "python",
   "name": "python3"
  },
  "language_info": {
   "codemirror_mode": {
    "name": "ipython",
    "version": 3
   },
   "file_extension": ".py",
   "mimetype": "text/x-python",
   "name": "python",
   "nbconvert_exporter": "python",
   "pygments_lexer": "ipython3",
   "version": "3.7.2"
  }
 },
 "nbformat": 4,
 "nbformat_minor": 2
}
