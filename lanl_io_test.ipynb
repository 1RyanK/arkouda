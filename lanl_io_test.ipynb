{
 "cells": [
  {
   "cell_type": "code",
   "execution_count": 13,
   "metadata": {},
   "outputs": [],
   "source": [
    "import importlib\n",
    "import sys, time\n",
    "from glob import glob\n",
    "import arkouda as ak"
   ]
  },
  {
   "cell_type": "code",
   "execution_count": 14,
   "metadata": {},
   "outputs": [
    {
     "data": {
      "text/plain": [
       "<module 'arkouda' from '/Users/valton/chapel/arkouda/arkouda/arkouda.py'>"
      ]
     },
     "execution_count": 14,
     "metadata": {},
     "output_type": "execute_result"
    }
   ],
   "source": [
    "importlib.reload(ak)"
   ]
  },
  {
   "cell_type": "code",
   "execution_count": 15,
   "metadata": {},
   "outputs": [
    {
     "name": "stdout",
     "output_type": "stream",
     "text": [
      "4.3.1\n",
      "psp =  tcp://localhost:5555\n",
      "connected to tcp://localhost:5555\n"
     ]
    }
   ],
   "source": [
    "ak.set_defaults()\n",
    "ak.v = False\n",
    "ak.connect(server=\"localhost\", port=5555)"
   ]
  },
  {
   "cell_type": "code",
   "execution_count": 16,
   "metadata": {},
   "outputs": [],
   "source": [
    "hdffiles = glob('/Users/valton/lanl_netflow/hdf5/netflow_day-02-00.hdf')\n",
    "# crashes on my mac withmore than one file in the list ???\n",
    "#hdffiles = glob('/Users/valton/lanl_netflow/hdf5/netflow_day-02-0[0-2].hdf')\n"
   ]
  },
  {
   "cell_type": "code",
   "execution_count": 17,
   "metadata": {},
   "outputs": [],
   "source": [
    "fields = ['srcIP', 'dstIP', 'srcPort', 'dstPort', 'start']"
   ]
  },
  {
   "cell_type": "code",
   "execution_count": 18,
   "metadata": {},
   "outputs": [
    {
     "name": "stdout",
     "output_type": "stream",
     "text": [
      "CPU times: user 1.73 ms, sys: 2.14 ms, total: 3.86 ms\n",
      "Wall time: 1.01 s\n"
     ]
    }
   ],
   "source": [
    "%time nfDF = {field: ak.read_hdf(field, hdffiles) for field in fields}"
   ]
  },
  {
   "cell_type": "code",
   "execution_count": 19,
   "metadata": {},
   "outputs": [
    {
     "name": "stdout",
     "output_type": "stream",
     "text": [
      "[118781 118783 118785 ... 122591 122591 122591]\n",
      "[34111590301 34111676798 48764590996 ... 34111442184 34111442184 34111493012]\n",
      "[34111773101 34112055194 34111367844 ... 34111412740 34111412740 34111501502]\n",
      "[5507 3137 5060 ... 81488 80526 123]\n",
      "[46272 445 5060 ... 443 443 123]\n",
      "{'srcIP': array([34111590301, 34111676798, 48764590996, ..., 34111442184, 34111442184, 34111493012]), 'dstIP': array([34111773101, 34112055194, 34111367844, ..., 34111412740, 34111412740, 34111501502]), 'srcPort': array([5507, 3137, 5060, ..., 81488, 80526, 123]), 'dstPort': array([46272, 445, 5060, ..., 443, 443, 123]), 'start': array([118781, 118783, 118785, ..., 122591, 122591, 122591])}\n"
     ]
    }
   ],
   "source": [
    "print(nfDF['start'])\n",
    "print(nfDF['srcIP'])\n",
    "print(nfDF['dstIP'])\n",
    "print(nfDF['srcPort'])\n",
    "print(nfDF['dstPort'])\n",
    "print(nfDF)"
   ]
  },
  {
   "cell_type": "code",
   "execution_count": 20,
   "metadata": {},
   "outputs": [
    {
     "name": "stdout",
     "output_type": "stream",
     "text": [
      "name:\"id_12\" dtype:\"int64\" size:28327 ndim:1 shape:(28327) itemsize:8\n",
      "name:\"id_13\" dtype:\"int64\" size:28327 ndim:1 shape:(28327) itemsize:8\n",
      "name:\"id_18\" dtype:\"int64\" size:10000000 ndim:1 shape:(10000000) itemsize:8\n",
      "name:\"id_16\" dtype:\"int64\" size:10000000 ndim:1 shape:(10000000) itemsize:8\n",
      "name:\"id_17\" dtype:\"int64\" size:10000000 ndim:1 shape:(10000000) itemsize:8\n",
      "name:\"id_14\" dtype:\"int64\" size:10000000 ndim:1 shape:(10000000) itemsize:8\n",
      "name:\"id_15\" dtype:\"int64\" size:10000000 ndim:1 shape:(10000000) itemsize:8\n",
      "\n"
     ]
    }
   ],
   "source": [
    "print(ak.info(ak.AllSymbols))"
   ]
  },
  {
   "cell_type": "code",
   "execution_count": 21,
   "metadata": {},
   "outputs": [
    {
     "name": "stdout",
     "output_type": "stream",
     "text": [
      "23713 [34111467872 34111337455 48764538486 ... 48764404911 48764677226 48764973732]\n",
      "23713 [62 656 133 ... 161 322 323]\n"
     ]
    }
   ],
   "source": [
    "u,c = nfDF['srcIP'].unique(return_counts=True)\n",
    "print(u.size,u)\n",
    "print(c.size,c)"
   ]
  },
  {
   "cell_type": "code",
   "execution_count": 22,
   "metadata": {},
   "outputs": [
    {
     "name": "stdout",
     "output_type": "stream",
     "text": [
      "16691 [34111947526 34111618066 34111250256 ... 34112057108 48764314934 34111963806]\n",
      "16691 [71 1 116 ... 6 2 129]\n"
     ]
    }
   ],
   "source": [
    "u,c = nfDF['dstIP'].unique(return_counts=True)\n",
    "print(u.size,u)\n",
    "print(c.size,c)"
   ]
  },
  {
   "cell_type": "code",
   "execution_count": 23,
   "metadata": {},
   "outputs": [
    {
     "name": "stdout",
     "output_type": "stream",
     "text": [
      "64852 [2 4 5 ... 99996 99997 99998]\n",
      "64852 [18 21 270 ... 35 16 19]\n"
     ]
    }
   ],
   "source": [
    "u,c = nfDF['srcPort'].unique(return_counts=True)\n",
    "print(u.size,u)\n",
    "print(c.size,c)"
   ]
  },
  {
   "cell_type": "code",
   "execution_count": 24,
   "metadata": {},
   "outputs": [
    {
     "name": "stdout",
     "output_type": "stream",
     "text": [
      "28327 [7 8 9 ... 99991 99992 99993]\n",
      "28327 [345 3 157 ... 2 1 2]\n"
     ]
    }
   ],
   "source": [
    "u,c = nfDF['dstPort'].unique(return_counts=True)\n",
    "print(u.size,u)\n",
    "print(c.size,c)"
   ]
  },
  {
   "cell_type": "code",
   "execution_count": null,
   "metadata": {},
   "outputs": [],
   "source": [
    "#ak.shutdown()"
   ]
  },
  {
   "cell_type": "code",
   "execution_count": null,
   "metadata": {},
   "outputs": [],
   "source": []
  }
 ],
 "metadata": {
  "kernelspec": {
   "display_name": "Python 3",
   "language": "python",
   "name": "python3"
  },
  "language_info": {
   "codemirror_mode": {
    "name": "ipython",
    "version": 3
   },
   "file_extension": ".py",
   "mimetype": "text/x-python",
   "name": "python",
   "nbconvert_exporter": "python",
   "pygments_lexer": "ipython3",
   "version": "3.7.2"
  }
 },
 "nbformat": 4,
 "nbformat_minor": 2
}
