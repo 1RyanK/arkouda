{
 "cells": [
  {
   "cell_type": "code",
   "execution_count": 12,
   "metadata": {},
   "outputs": [],
   "source": [
    "import numpy as np\n",
    "\n",
    "import arkouda as ak"
   ]
  },
  {
   "cell_type": "code",
   "execution_count": 13,
   "metadata": {},
   "outputs": [],
   "source": [
    "ak.v = False\n",
    "ak.connect(server=\"localhost\", port=5555)"
   ]
  },
  {
   "cell_type": "code",
   "execution_count": 23,
   "metadata": {},
   "outputs": [
    {
     "name": "stdout",
     "output_type": "stream",
     "text": [
      "arange passed\n"
     ]
    }
   ],
   "source": [
    "a = np.arange(0,10,1)\n",
    "b = list(ak.arange(0,10,1))\n",
    "c = a == b\n",
    "if c.all(): print(\"arange passed\")\n",
    "else: print(\"arange failed\")"
   ]
  },
  {
   "cell_type": "code",
   "execution_count": 24,
   "metadata": {},
   "outputs": [
    {
     "name": "stdout",
     "output_type": "stream",
     "text": [
      "linspace passed\n"
     ]
    }
   ],
   "source": [
    "a = np.linspace(0,1,10)\n",
    "b = list(ak.linspace(0,1,10))\n",
    "c = a == b\n",
    "if c.all(): print(\"linspace passed\")\n",
    "else: print(\"linspace failed\")"
   ]
  },
  {
   "cell_type": "code",
   "execution_count": 25,
   "metadata": {},
   "outputs": [
    {
     "name": "stdout",
     "output_type": "stream",
     "text": [
      "zeros passed\n"
     ]
    }
   ],
   "source": [
    "a = np.zeros(10)\n",
    "b = list(ak.zeros(10))\n",
    "c = a == b\n",
    "if c.all(): print(\"zeros passed\")\n",
    "else: print(\"zeros failed\")"
   ]
  },
  {
   "cell_type": "code",
   "execution_count": 26,
   "metadata": {},
   "outputs": [
    {
     "name": "stdout",
     "output_type": "stream",
     "text": [
      "ones passed\n"
     ]
    }
   ],
   "source": [
    "a = np.ones(10)\n",
    "b = list(ak.ones(10))\n",
    "c = a == b\n",
    "if c.all(): print(\"ones passed\")\n",
    "else: print(\"ones failed\")"
   ]
  },
  {
   "cell_type": "code",
   "execution_count": 11,
   "metadata": {},
   "outputs": [],
   "source": [
    "#ak.disconnect()"
   ]
  },
  {
   "cell_type": "code",
   "execution_count": null,
   "metadata": {},
   "outputs": [],
   "source": []
  }
 ],
 "metadata": {
  "kernelspec": {
   "display_name": "Python 3",
   "language": "python",
   "name": "python3"
  },
  "language_info": {
   "codemirror_mode": {
    "name": "ipython",
    "version": 3
   },
   "file_extension": ".py",
   "mimetype": "text/x-python",
   "name": "python",
   "nbconvert_exporter": "python",
   "pygments_lexer": "ipython3",
   "version": "3.7.2"
  }
 },
 "nbformat": 4,
 "nbformat_minor": 2
}
