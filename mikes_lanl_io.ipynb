{
 "cells": [
  {
   "cell_type": "code",
   "execution_count": 28,
   "metadata": {},
   "outputs": [],
   "source": [
    "import sys, time\n",
    "import numpy as np\n",
    "import arkouda as ak"
   ]
  },
  {
   "cell_type": "code",
   "execution_count": 29,
   "metadata": {},
   "outputs": [],
   "source": [
    "ak.connect(server=\"localhost\", port=5555)"
   ]
  },
  {
   "cell_type": "code",
   "execution_count": 48,
   "metadata": {},
   "outputs": [],
   "source": [
    "# files and locations on my(mike's) laptop\n",
    "hdffiles = [\"/Users/valton/lanl_netflow/hdf5/netflow_day-02-00.hdf\",\n",
    "           \"/Users/valton/lanl_netflow/hdf5/netflow_day-02-01.hdf\",\n",
    "           \"/Users/valton/lanl_netflow/hdf5/netflow_day-02-02.hdf\",\n",
    "           \"/Users/valton/lanl_netflow/hdf5/netflow_day-02-03.hdf\",\n",
    "           \"/Users/valton/lanl_netflow/hdf5/netflow_day-02-04.hdf\",\n",
    "           \"/Users/valton/lanl_netflow/hdf5/netflow_day-02-05.hdf\"]"
   ]
  },
  {
   "cell_type": "code",
   "execution_count": 49,
   "metadata": {},
   "outputs": [],
   "source": [
    "fields = ['srcIP', 'dstIP', 'srcPort', 'dstPort', 'start']"
   ]
  },
  {
   "cell_type": "code",
   "execution_count": 50,
   "metadata": {},
   "outputs": [
    {
     "name": "stdout",
     "output_type": "stream",
     "text": [
      "CPU times: user 2 ms, sys: 2.1 ms, total: 4.11 ms\n",
      "Wall time: 6.45 s\n"
     ]
    }
   ],
   "source": [
    "%time nfDF = {field: ak.read_hdf(field, hdffiles) for field in fields}"
   ]
  },
  {
   "cell_type": "code",
   "execution_count": 51,
   "metadata": {},
   "outputs": [
    {
     "name": "stdout",
     "output_type": "stream",
     "text": [
      "[118781 118783 118785 ... 140369 140369 140369]\n",
      "[34111590301 34111676798 48764590996 ... 34112191431 34112191431 34112191431]\n",
      "[34111773101 34112055194 34111367844 ... 34111545319 31712083968 31712083968]\n",
      "[5507 3137 5060 ... 78620 44270 49614]\n",
      "[46272 445 5060 ... 95765 80 80]\n"
     ]
    }
   ],
   "source": [
    "print(nfDF['start'])\n",
    "print(nfDF['srcIP'])\n",
    "print(nfDF['dstIP'])\n",
    "print(nfDF['srcPort'])\n",
    "print(nfDF['dstPort'])"
   ]
  },
  {
   "cell_type": "code",
   "execution_count": 52,
   "metadata": {},
   "outputs": [
    {
     "name": "stdout",
     "output_type": "stream",
     "text": [
      "{'srcIP': array([34111590301, 34111676798, 48764590996, ..., 34112191431, 34112191431, 34112191431]), 'dstIP': array([34111773101, 34112055194, 34111367844, ..., 34111545319, 31712083968, 31712083968]), 'srcPort': array([5507, 3137, 5060, ..., 78620, 44270, 49614]), 'dstPort': array([46272, 445, 5060, ..., 95765, 80, 80]), 'start': array([118781, 118783, 118785, ..., 140369, 140369, 140369])}\n"
     ]
    }
   ],
   "source": [
    "print(nfDF)"
   ]
  },
  {
   "cell_type": "code",
   "execution_count": 53,
   "metadata": {},
   "outputs": [
    {
     "name": "stdout",
     "output_type": "stream",
     "text": [
      "name:\"id_43\" dtype:\"int64\" size:60000000 ndim:1 shape:(60000000) itemsize:8\n",
      "name:\"id_42\" dtype:\"int64\" size:100 ndim:1 shape:(100) itemsize:8\n",
      "name:\"id_47\" dtype:\"int64\" size:60000000 ndim:1 shape:(60000000) itemsize:8\n",
      "name:\"id_46\" dtype:\"int64\" size:60000000 ndim:1 shape:(60000000) itemsize:8\n",
      "name:\"id_45\" dtype:\"int64\" size:60000000 ndim:1 shape:(60000000) itemsize:8\n",
      "name:\"id_44\" dtype:\"int64\" size:60000000 ndim:1 shape:(60000000) itemsize:8\n",
      "name:\"id_30\" dtype:\"int64\" size:80000000 ndim:1 shape:(80000000) itemsize:8\n",
      "name:\"id_37\" dtype:\"int64\" size:60169 ndim:1 shape:(60169) itemsize:8\n",
      "name:\"id_38\" dtype:\"int64\" size:60169 ndim:1 shape:(60169) itemsize:8\n",
      "\n"
     ]
    }
   ],
   "source": [
    "print(ak.info(ak.AllSymbols))"
   ]
  },
  {
   "cell_type": "code",
   "execution_count": 54,
   "metadata": {},
   "outputs": [
    {
     "name": "stdout",
     "output_type": "stream",
     "text": [
      "CPU times: user 1.47 ms, sys: 1.67 ms, total: 3.14 ms\n",
      "Wall time: 13.1 s\n"
     ]
    }
   ],
   "source": [
    "%time u,c = nfDF['srcIP'].unique(return_counts=True)"
   ]
  },
  {
   "cell_type": "code",
   "execution_count": 55,
   "metadata": {},
   "outputs": [
    {
     "name": "stdout",
     "output_type": "stream",
     "text": [
      "25559 [34112110600 34111400624 48764978487 ... 48764444540 34111644622 34111308561]\n",
      "25559 [3976 3960 176 ... 183 561 2159]\n"
     ]
    }
   ],
   "source": [
    "print(u.size,u)\n",
    "print(c.size,c)"
   ]
  },
  {
   "cell_type": "code",
   "execution_count": 56,
   "metadata": {},
   "outputs": [
    {
     "name": "stdout",
     "output_type": "stream",
     "text": [
      "CPU times: user 1.42 ms, sys: 1.85 ms, total: 3.27 ms\n",
      "Wall time: 12.2 s\n"
     ]
    }
   ],
   "source": [
    "%time u,c = nfDF['dstIP'].unique(return_counts=True)"
   ]
  },
  {
   "cell_type": "code",
   "execution_count": 57,
   "metadata": {},
   "outputs": [
    {
     "name": "stdout",
     "output_type": "stream",
     "text": [
      "23790 [34111337455 34111618066 34111947526 ... 34112119691 48764677226 48764683812]\n",
      "23790 [39 12 72 ... 56 2 4]\n"
     ]
    }
   ],
   "source": [
    "print(u.size,u)\n",
    "print(c.size,c)"
   ]
  },
  {
   "cell_type": "code",
   "execution_count": 58,
   "metadata": {},
   "outputs": [
    {
     "name": "stdout",
     "output_type": "stream",
     "text": [
      "CPU times: user 1.22 ms, sys: 1.64 ms, total: 2.85 ms\n",
      "Wall time: 1.37 s\n"
     ]
    }
   ],
   "source": [
    "%time u,c = nfDF['srcPort'].unique(return_counts=True)"
   ]
  },
  {
   "cell_type": "code",
   "execution_count": 59,
   "metadata": {},
   "outputs": [
    {
     "name": "stdout",
     "output_type": "stream",
     "text": [
      "64899 [2 4 5 ... 99996 99997 99998]\n",
      "64899 [188 223 2518 ... 284 220 220]\n"
     ]
    }
   ],
   "source": [
    "print(u.size,u)\n",
    "print(c.size,c)"
   ]
  },
  {
   "cell_type": "code",
   "execution_count": 60,
   "metadata": {},
   "outputs": [
    {
     "name": "stdout",
     "output_type": "stream",
     "text": [
      "CPU times: user 1.06 ms, sys: 1.63 ms, total: 2.69 ms\n",
      "Wall time: 1.31 s\n"
     ]
    }
   ],
   "source": [
    "%time u,c = nfDF['dstPort'].unique(return_counts=True)"
   ]
  },
  {
   "cell_type": "code",
   "execution_count": 61,
   "metadata": {},
   "outputs": [
    {
     "name": "stdout",
     "output_type": "stream",
     "text": [
      "59664 [2 4 7 ... 99996 99997 99998]\n",
      "59664 [4 11 4698 ... 7 5 5]\n"
     ]
    }
   ],
   "source": [
    "print(u.size,u)\n",
    "print(c.size,c)"
   ]
  },
  {
   "cell_type": "code",
   "execution_count": 62,
   "metadata": {},
   "outputs": [
    {
     "name": "stdout",
     "output_type": "stream",
     "text": [
      "2508\n",
      "418986\n"
     ]
    }
   ],
   "source": [
    "print((nfDF['srcPort'] == 8080).sum())\n",
    "print((nfDF['dstPort'] == 8080).sum())"
   ]
  },
  {
   "cell_type": "code",
   "execution_count": 63,
   "metadata": {
    "scrolled": true
   },
   "outputs": [
    {
     "name": "stdout",
     "output_type": "stream",
     "text": [
      "[2 4 7 ... 99996 99997 99998]\n",
      "CPU times: user 1.48 ms, sys: 5.1 ms, total: 6.58 ms\n",
      "Wall time: 9.98 s\n",
      "60000000\n"
     ]
    }
   ],
   "source": [
    "s = u # pick off some dest ports\n",
    "print(s)\n",
    "%time t = ak.in1d(nfDF['dstPort'], s) # bool vector of where they are found in the data\n",
    "print(t.sum())"
   ]
  },
  {
   "cell_type": "code",
   "execution_count": 64,
   "metadata": {},
   "outputs": [
    {
     "name": "stdout",
     "output_type": "stream",
     "text": [
      "[    2     4     7 ... 99996 99997 99998]\n",
      "CPU times: user 7.47 s, sys: 1.04 s, total: 8.51 s\n",
      "Wall time: 8.6 s\n",
      "60000000\n"
     ]
    }
   ],
   "source": [
    "s = u.to_ndarray() # pick off some dest ports\n",
    "dp = nfDF['dstPort'].to_ndarray()\n",
    "print(s)\n",
    "%time t = np.in1d(dp, s) # bool vector of where they are found in the data\n",
    "print(t.sum())"
   ]
  },
  {
   "cell_type": "code",
   "execution_count": 65,
   "metadata": {},
   "outputs": [
    {
     "name": "stdout",
     "output_type": "stream",
     "text": [
      "118781 140369 21588\n",
      "CPU times: user 1.22 ms, sys: 417 µs, total: 1.64 ms\n",
      "Wall time: 136 ms\n",
      "[87 260 221 ... 507133 811672 769215]\n",
      "60000000 60000000\n"
     ]
    }
   ],
   "source": [
    "a = nfDF['start']\n",
    "aMin = a.min()\n",
    "aMax = a.max()\n",
    "print(aMin,aMax, aMax - aMin)\n",
    "%time h = ak.histogram(a,bins=100)\n",
    "print(h)\n",
    "print(h.sum(), a.size)"
   ]
  },
  {
   "cell_type": "code",
   "execution_count": 66,
   "metadata": {},
   "outputs": [],
   "source": [
    "#ak.shutdown()\n",
    "#ak.disconnect()"
   ]
  },
  {
   "cell_type": "code",
   "execution_count": null,
   "metadata": {},
   "outputs": [],
   "source": []
  },
  {
   "cell_type": "code",
   "execution_count": null,
   "metadata": {},
   "outputs": [],
   "source": []
  }
 ],
 "metadata": {
  "kernelspec": {
   "display_name": "Python 3",
   "language": "python",
   "name": "python3"
  },
  "language_info": {
   "codemirror_mode": {
    "name": "ipython",
    "version": 3
   },
   "file_extension": ".py",
   "mimetype": "text/x-python",
   "name": "python",
   "nbconvert_exporter": "python",
   "pygments_lexer": "ipython3",
   "version": "3.7.3"
  }
 },
 "nbformat": 4,
 "nbformat_minor": 2
}
