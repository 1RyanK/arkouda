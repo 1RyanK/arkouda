{
 "cells": [
  {
   "cell_type": "code",
   "execution_count": null,
   "metadata": {},
   "outputs": [],
   "source": [
    "import sys, time\n",
    "import numpy as np\n",
    "import arkouda as ak"
   ]
  },
  {
   "cell_type": "code",
   "execution_count": null,
   "metadata": {},
   "outputs": [],
   "source": [
    "ak.connect(server=\"localhost\", port=5555)"
   ]
  },
  {
   "cell_type": "code",
   "execution_count": null,
   "metadata": {},
   "outputs": [],
   "source": [
    "# files and locations on my(mike's) laptop\n",
    "hdffiles = [\"/Users/valton/lanl_netflow/hdf5/netflow_day-02-00.hdf\",\n",
    "           \"/Users/valton/lanl_netflow/hdf5/netflow_day-02-01.hdf\",\n",
    "           \"/Users/valton/lanl_netflow/hdf5/netflow_day-02-02.hdf\",\n",
    "           \"/Users/valton/lanl_netflow/hdf5/netflow_day-02-03.hdf\",\n",
    "           \"/Users/valton/lanl_netflow/hdf5/netflow_day-02-04.hdf\",\n",
    "           \"/Users/valton/lanl_netflow/hdf5/netflow_day-02-05.hdf\"]"
   ]
  },
  {
   "cell_type": "code",
   "execution_count": null,
   "metadata": {},
   "outputs": [],
   "source": [
    "fields = ['srcIP', 'dstIP', 'srcPort', 'dstPort', 'start']"
   ]
  },
  {
   "cell_type": "code",
   "execution_count": null,
   "metadata": {},
   "outputs": [],
   "source": [
    "%time nfDF = {field: ak.read_hdf(field, hdffiles) for field in fields}"
   ]
  },
  {
   "cell_type": "code",
   "execution_count": null,
   "metadata": {},
   "outputs": [],
   "source": [
    "print(nfDF['start'])\n",
    "print(nfDF['srcIP'])\n",
    "print(nfDF['dstIP'])\n",
    "print(nfDF['srcPort'])\n",
    "print(nfDF['dstPort'])"
   ]
  },
  {
   "cell_type": "code",
   "execution_count": null,
   "metadata": {},
   "outputs": [],
   "source": [
    "print(nfDF)"
   ]
  },
  {
   "cell_type": "code",
   "execution_count": null,
   "metadata": {},
   "outputs": [],
   "source": [
    "print(ak.info(ak.AllSymbols))"
   ]
  },
  {
   "cell_type": "code",
   "execution_count": null,
   "metadata": {},
   "outputs": [],
   "source": [
    "%time u,c = nfDF['srcIP'].unique(return_counts=True)"
   ]
  },
  {
   "cell_type": "code",
   "execution_count": null,
   "metadata": {},
   "outputs": [],
   "source": [
    "print(u.size,u)\n",
    "print(c.size,c)"
   ]
  },
  {
   "cell_type": "code",
   "execution_count": null,
   "metadata": {},
   "outputs": [],
   "source": [
    "%time u,c = nfDF['dstIP'].unique(return_counts=True)"
   ]
  },
  {
   "cell_type": "code",
   "execution_count": null,
   "metadata": {},
   "outputs": [],
   "source": [
    "print(u.size,u)\n",
    "print(c.size,c)"
   ]
  },
  {
   "cell_type": "code",
   "execution_count": null,
   "metadata": {},
   "outputs": [],
   "source": [
    "%time u,c = nfDF['srcPort'].unique(return_counts=True)"
   ]
  },
  {
   "cell_type": "code",
   "execution_count": null,
   "metadata": {},
   "outputs": [],
   "source": [
    "print(u.size,u)\n",
    "print(c.size,c)"
   ]
  },
  {
   "cell_type": "code",
   "execution_count": null,
   "metadata": {},
   "outputs": [],
   "source": [
    "%time u,c = nfDF['dstPort'].unique(return_counts=True)"
   ]
  },
  {
   "cell_type": "code",
   "execution_count": null,
   "metadata": {},
   "outputs": [],
   "source": [
    "print(u.size,u)\n",
    "print(c.size,c)"
   ]
  },
  {
   "cell_type": "code",
   "execution_count": null,
   "metadata": {},
   "outputs": [],
   "source": [
    "print((nfDF['srcPort'] == 8080).sum())\n",
    "print((nfDF['dstPort'] == 8080).sum())"
   ]
  },
  {
   "cell_type": "code",
   "execution_count": null,
   "metadata": {
    "scrolled": true
   },
   "outputs": [],
   "source": [
    "s = u[0:65] # pick off the first 100 dest ports\n",
    "print(s)\n",
    "%time t = ak.in1d(nfDF['dstPort'], s) # bool vector of where they are found in the data\n",
    "print(t.sum())"
   ]
  },
  {
   "cell_type": "code",
   "execution_count": null,
   "metadata": {},
   "outputs": [],
   "source": [
    "s = u[0:65].to_ndarray() # pick off the first 100 dest ports\n",
    "dp = nfDF['dstPort'].to_ndarray()\n",
    "print(s)\n",
    "%time t = np.in1d(dp, s) # bool vector of where they are found in the data\n",
    "print(t.sum())"
   ]
  },
  {
   "cell_type": "code",
   "execution_count": null,
   "metadata": {},
   "outputs": [],
   "source": [
    "#ak.shutdown()\n",
    "#ak.disconnect()"
   ]
  }
 ],
 "metadata": {
  "kernelspec": {
   "display_name": "Python 3",
   "language": "python",
   "name": "python3"
  },
  "language_info": {
   "codemirror_mode": {
    "name": "ipython",
    "version": 3
   },
   "file_extension": ".py",
   "mimetype": "text/x-python",
   "name": "python",
   "nbconvert_exporter": "python",
   "pygments_lexer": "ipython3",
   "version": "3.7.3"
  }
 },
 "nbformat": 4,
 "nbformat_minor": 2
}
