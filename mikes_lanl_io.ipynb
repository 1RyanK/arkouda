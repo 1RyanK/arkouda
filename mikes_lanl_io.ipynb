{
 "cells": [
  {
   "cell_type": "code",
   "execution_count": 54,
   "metadata": {},
   "outputs": [],
   "source": [
    "import sys, time\n",
    "import arkouda as ak"
   ]
  },
  {
   "cell_type": "code",
   "execution_count": 55,
   "metadata": {},
   "outputs": [],
   "source": [
    "ak.connect(server=\"localhost\", port=5555)"
   ]
  },
  {
   "cell_type": "code",
   "execution_count": 56,
   "metadata": {},
   "outputs": [],
   "source": [
    "# files and locations on my(mike's) laptop\n",
    "hdffiles = [\"/Users/valton/lanl_netflow/hdf5/netflow_day-02-00.hdf\",\n",
    "           \"/Users/valton/lanl_netflow/hdf5/netflow_day-02-01.hdf\",\n",
    "           \"/Users/valton/lanl_netflow/hdf5/netflow_day-02-02.hdf\",\n",
    "           \"/Users/valton/lanl_netflow/hdf5/netflow_day-02-03.hdf\",\n",
    "           \"/Users/valton/lanl_netflow/hdf5/netflow_day-02-04.hdf\",\n",
    "           \"/Users/valton/lanl_netflow/hdf5/netflow_day-02-05.hdf\"]"
   ]
  },
  {
   "cell_type": "code",
   "execution_count": 57,
   "metadata": {},
   "outputs": [],
   "source": [
    "fields = ['srcIP', 'dstIP', 'srcPort', 'dstPort', 'start']"
   ]
  },
  {
   "cell_type": "code",
   "execution_count": 58,
   "metadata": {},
   "outputs": [
    {
     "name": "stdout",
     "output_type": "stream",
     "text": [
      "CPU times: user 1.86 ms, sys: 2.09 ms, total: 3.95 ms\n",
      "Wall time: 7.04 s\n"
     ]
    }
   ],
   "source": [
    "%time nfDF = {field: ak.read_hdf(field, hdffiles) for field in fields}"
   ]
  },
  {
   "cell_type": "code",
   "execution_count": 59,
   "metadata": {},
   "outputs": [
    {
     "name": "stdout",
     "output_type": "stream",
     "text": [
      "[118781 118783 118785 ... 140369 140369 140369]\n",
      "[34111590301 34111676798 48764590996 ... 34112191431 34112191431 34112191431]\n",
      "[34111773101 34112055194 34111367844 ... 34111545319 31712083968 31712083968]\n",
      "[5507 3137 5060 ... 78620 44270 49614]\n",
      "[46272 445 5060 ... 95765 80 80]\n"
     ]
    }
   ],
   "source": [
    "print(nfDF['start'])\n",
    "print(nfDF['srcIP'])\n",
    "print(nfDF['dstIP'])\n",
    "print(nfDF['srcPort'])\n",
    "print(nfDF['dstPort'])"
   ]
  },
  {
   "cell_type": "code",
   "execution_count": 60,
   "metadata": {},
   "outputs": [
    {
     "name": "stdout",
     "output_type": "stream",
     "text": [
      "{'srcIP': array([34111590301, 34111676798, 48764590996, ..., 34112191431, 34112191431, 34112191431]), 'dstIP': array([34111773101, 34112055194, 34111367844, ..., 34111545319, 31712083968, 31712083968]), 'srcPort': array([5507, 3137, 5060, ..., 78620, 44270, 49614]), 'dstPort': array([46272, 445, 5060, ..., 95765, 80, 80]), 'start': array([118781, 118783, 118785, ..., 140369, 140369, 140369])}\n"
     ]
    }
   ],
   "source": [
    "print(nfDF)"
   ]
  },
  {
   "cell_type": "code",
   "execution_count": 61,
   "metadata": {},
   "outputs": [
    {
     "name": "stdout",
     "output_type": "stream",
     "text": [
      "name:\"id_60\" dtype:\"int64\" size:60000000 ndim:1 shape:(60000000) itemsize:8\n",
      "name:\"id_41\" dtype:\"int64\" size:59664 ndim:1 shape:(59664) itemsize:8\n",
      "name:\"id_40\" dtype:\"int64\" size:59664 ndim:1 shape:(59664) itemsize:8\n",
      "name:\"id_56\" dtype:\"int64\" size:60000000 ndim:1 shape:(60000000) itemsize:8\n",
      "name:\"id_57\" dtype:\"int64\" size:60000000 ndim:1 shape:(60000000) itemsize:8\n",
      "name:\"id_58\" dtype:\"int64\" size:60000000 ndim:1 shape:(60000000) itemsize:8\n",
      "name:\"id_59\" dtype:\"int64\" size:60000000 ndim:1 shape:(60000000) itemsize:8\n",
      "\n"
     ]
    }
   ],
   "source": [
    "print(ak.info(ak.AllSymbols))"
   ]
  },
  {
   "cell_type": "code",
   "execution_count": 62,
   "metadata": {},
   "outputs": [
    {
     "name": "stdout",
     "output_type": "stream",
     "text": [
      "CPU times: user 1.45 ms, sys: 2.01 ms, total: 3.46 ms\n",
      "Wall time: 15.1 s\n"
     ]
    }
   ],
   "source": [
    "%time u,c = nfDF['srcIP'].unique(return_counts=True)"
   ]
  },
  {
   "cell_type": "code",
   "execution_count": 63,
   "metadata": {},
   "outputs": [
    {
     "name": "stdout",
     "output_type": "stream",
     "text": [
      "25559 [34112110600 48764292094 34111400624 ... 34111567109 48764457709 34111785717]\n",
      "25559 [3976 180 3960 ... 3498 183 76]\n"
     ]
    }
   ],
   "source": [
    "print(u.size,u)\n",
    "print(c.size,c)"
   ]
  },
  {
   "cell_type": "code",
   "execution_count": 64,
   "metadata": {},
   "outputs": [
    {
     "name": "stdout",
     "output_type": "stream",
     "text": [
      "CPU times: user 1.29 ms, sys: 1.55 ms, total: 2.85 ms\n",
      "Wall time: 14.1 s\n"
     ]
    }
   ],
   "source": [
    "%time u,c = nfDF['dstIP'].unique(return_counts=True)"
   ]
  },
  {
   "cell_type": "code",
   "execution_count": 65,
   "metadata": {},
   "outputs": [
    {
     "name": "stdout",
     "output_type": "stream",
     "text": [
      "23790 [34111947526 34111337455 34111618066 ... 34112119691 48764677226 48764683812]\n",
      "23790 [72 39 12 ... 56 2 4]\n"
     ]
    }
   ],
   "source": [
    "print(u.size,u)\n",
    "print(c.size,c)"
   ]
  },
  {
   "cell_type": "code",
   "execution_count": 66,
   "metadata": {},
   "outputs": [
    {
     "name": "stdout",
     "output_type": "stream",
     "text": [
      "CPU times: user 1.08 ms, sys: 1.65 ms, total: 2.73 ms\n",
      "Wall time: 1.35 s\n"
     ]
    }
   ],
   "source": [
    "%time u,c = nfDF['srcPort'].unique(return_counts=True)"
   ]
  },
  {
   "cell_type": "code",
   "execution_count": 67,
   "metadata": {},
   "outputs": [
    {
     "name": "stdout",
     "output_type": "stream",
     "text": [
      "64899 [2 4 5 ... 99996 99997 99998]\n",
      "64899 [188 223 2518 ... 284 220 220]\n"
     ]
    }
   ],
   "source": [
    "print(u.size,u)\n",
    "print(c.size,c)"
   ]
  },
  {
   "cell_type": "code",
   "execution_count": 68,
   "metadata": {},
   "outputs": [
    {
     "name": "stdout",
     "output_type": "stream",
     "text": [
      "CPU times: user 961 µs, sys: 1.5 ms, total: 2.46 ms\n",
      "Wall time: 1.34 s\n"
     ]
    }
   ],
   "source": [
    "%time u,c = nfDF['dstPort'].unique(return_counts=True)"
   ]
  },
  {
   "cell_type": "code",
   "execution_count": 69,
   "metadata": {},
   "outputs": [
    {
     "name": "stdout",
     "output_type": "stream",
     "text": [
      "59664 [2 4 7 ... 99996 99997 99998]\n",
      "59664 [4 11 4698 ... 7 5 5]\n"
     ]
    }
   ],
   "source": [
    "print(u.size,u)\n",
    "print(c.size,c)"
   ]
  },
  {
   "cell_type": "code",
   "execution_count": 74,
   "metadata": {},
   "outputs": [
    {
     "name": "stdout",
     "output_type": "stream",
     "text": [
      "2508\n",
      "418986\n"
     ]
    }
   ],
   "source": [
    "print((nfDF['srcPort'] == 8080).sum())\n",
    "print((nfDF['dstPort'] == 8080).sum())"
   ]
  },
  {
   "cell_type": "code",
   "execution_count": null,
   "metadata": {},
   "outputs": [],
   "source": [
    "#ak.shutdown()\n",
    "#ak.disconnect()"
   ]
  }
 ],
 "metadata": {
  "kernelspec": {
   "display_name": "Python 3",
   "language": "python",
   "name": "python3"
  },
  "language_info": {
   "codemirror_mode": {
    "name": "ipython",
    "version": 3
   },
   "file_extension": ".py",
   "mimetype": "text/x-python",
   "name": "python",
   "nbconvert_exporter": "python",
   "pygments_lexer": "ipython3",
   "version": "3.7.2"
  }
 },
 "nbformat": 4,
 "nbformat_minor": 2
}
