{
 "cells": [
  {
   "cell_type": "code",
   "execution_count": 1,
   "metadata": {},
   "outputs": [],
   "source": [
    "import sys, time\n",
    "import numpy as np\n",
    "import arkouda as ak"
   ]
  },
  {
   "cell_type": "code",
   "execution_count": 2,
   "metadata": {},
   "outputs": [
    {
     "name": "stdout",
     "output_type": "stream",
     "text": [
      "4.3.1\n",
      "psp =  tcp://localhost:5555\n",
      "connected to tcp://localhost:5555\n"
     ]
    }
   ],
   "source": [
    "ak.connect(server=\"localhost\", port=5555)"
   ]
  },
  {
   "cell_type": "code",
   "execution_count": 3,
   "metadata": {},
   "outputs": [],
   "source": [
    "# files and locations on my(mike's) laptop\n",
    "hdffiles = [\"/Users/valton/lanl_netflow/hdf5/netflow_day-02-00.hdf\",\n",
    "           \"/Users/valton/lanl_netflow/hdf5/netflow_day-02-01.hdf\",\n",
    "           \"/Users/valton/lanl_netflow/hdf5/netflow_day-02-02.hdf\",\n",
    "           \"/Users/valton/lanl_netflow/hdf5/netflow_day-02-03.hdf\",\n",
    "           \"/Users/valton/lanl_netflow/hdf5/netflow_day-02-04.hdf\",\n",
    "           \"/Users/valton/lanl_netflow/hdf5/netflow_day-02-05.hdf\"]"
   ]
  },
  {
   "cell_type": "code",
   "execution_count": 4,
   "metadata": {},
   "outputs": [],
   "source": [
    "fields = ['srcIP', 'dstIP', 'srcPort', 'dstPort', 'start']"
   ]
  },
  {
   "cell_type": "code",
   "execution_count": 5,
   "metadata": {},
   "outputs": [
    {
     "name": "stdout",
     "output_type": "stream",
     "text": [
      "CPU times: user 1.7 ms, sys: 1.74 ms, total: 3.44 ms\n",
      "Wall time: 4.9 s\n"
     ]
    }
   ],
   "source": [
    "%time nfDF = {field: ak.read_hdf(field, hdffiles) for field in fields}"
   ]
  },
  {
   "cell_type": "code",
   "execution_count": 6,
   "metadata": {},
   "outputs": [
    {
     "name": "stdout",
     "output_type": "stream",
     "text": [
      "[118781 118783 118785 ... 140369 140369 140369]\n",
      "[34111590301 34111676798 48764590996 ... 34112191431 34112191431 34112191431]\n",
      "[34111773101 34112055194 34111367844 ... 34111545319 31712083968 31712083968]\n",
      "[5507 3137 5060 ... 78620 44270 49614]\n",
      "[46272 445 5060 ... 95765 80 80]\n"
     ]
    }
   ],
   "source": [
    "print(nfDF['start'])\n",
    "print(nfDF['srcIP'])\n",
    "print(nfDF['dstIP'])\n",
    "print(nfDF['srcPort'])\n",
    "print(nfDF['dstPort'])"
   ]
  },
  {
   "cell_type": "code",
   "execution_count": 7,
   "metadata": {},
   "outputs": [
    {
     "name": "stdout",
     "output_type": "stream",
     "text": [
      "{'srcIP': array([34111590301, 34111676798, 48764590996, ..., 34112191431, 34112191431, 34112191431]), 'dstIP': array([34111773101, 34112055194, 34111367844, ..., 34111545319, 31712083968, 31712083968]), 'srcPort': array([5507, 3137, 5060, ..., 78620, 44270, 49614]), 'dstPort': array([46272, 445, 5060, ..., 95765, 80, 80]), 'start': array([118781, 118783, 118785, ..., 140369, 140369, 140369])}\n"
     ]
    }
   ],
   "source": [
    "print(nfDF)"
   ]
  },
  {
   "cell_type": "code",
   "execution_count": 8,
   "metadata": {},
   "outputs": [
    {
     "name": "stdout",
     "output_type": "stream",
     "text": [
      "name:\"id_5\" dtype:\"int64\" size:60000000 ndim:1 shape:(60000000) itemsize:8\n",
      "name:\"id_4\" dtype:\"int64\" size:60000000 ndim:1 shape:(60000000) itemsize:8\n",
      "name:\"id_3\" dtype:\"int64\" size:60000000 ndim:1 shape:(60000000) itemsize:8\n",
      "name:\"id_2\" dtype:\"int64\" size:60000000 ndim:1 shape:(60000000) itemsize:8\n",
      "name:\"id_1\" dtype:\"int64\" size:60000000 ndim:1 shape:(60000000) itemsize:8\n",
      "\n",
      "id_1\n"
     ]
    }
   ],
   "source": [
    "print(ak.info(ak.AllSymbols))\n",
    "print(nfDF['srcIP'].name)"
   ]
  },
  {
   "cell_type": "code",
   "execution_count": null,
   "metadata": {},
   "outputs": [],
   "source": [
    "%time u,c = ak.unique(nfDF['srcIP'], return_counts=True)"
   ]
  },
  {
   "cell_type": "code",
   "execution_count": null,
   "metadata": {},
   "outputs": [],
   "source": [
    "print(u.size,u)\n",
    "print(c.size,c)"
   ]
  },
  {
   "cell_type": "code",
   "execution_count": null,
   "metadata": {},
   "outputs": [],
   "source": [
    "%time u,c = ak.unique(nfDF['dstIP'], return_counts=True)"
   ]
  },
  {
   "cell_type": "code",
   "execution_count": null,
   "metadata": {},
   "outputs": [],
   "source": [
    "print(u.size,u)\n",
    "print(c.size,c)"
   ]
  },
  {
   "cell_type": "code",
   "execution_count": null,
   "metadata": {},
   "outputs": [],
   "source": [
    "%time u,c = ak.unique(nfDF['srcPort'], return_counts=True)"
   ]
  },
  {
   "cell_type": "code",
   "execution_count": null,
   "metadata": {},
   "outputs": [],
   "source": [
    "print(u.size,u)\n",
    "print(c.size,c)"
   ]
  },
  {
   "cell_type": "code",
   "execution_count": null,
   "metadata": {},
   "outputs": [],
   "source": [
    "%time u,c = ak.unique(nfDF['dstPort'], return_counts=True)"
   ]
  },
  {
   "cell_type": "code",
   "execution_count": null,
   "metadata": {},
   "outputs": [],
   "source": [
    "print(u.size,u)\n",
    "print(c.size,c)"
   ]
  },
  {
   "cell_type": "code",
   "execution_count": null,
   "metadata": {},
   "outputs": [],
   "source": [
    "print((nfDF['srcPort'] == 80).sum())\n",
    "print((nfDF['dstPort'] == 80).sum())"
   ]
  },
  {
   "cell_type": "code",
   "execution_count": null,
   "metadata": {
    "scrolled": true
   },
   "outputs": [],
   "source": [
    "s = u[0:100] # pick off some dest ports\n",
    "print(s)\n",
    "%time t = ak.in1d(nfDF['dstPort'], s) # bool vector of where they are found in the data\n",
    "print(t.sum())"
   ]
  },
  {
   "cell_type": "code",
   "execution_count": null,
   "metadata": {},
   "outputs": [],
   "source": [
    "s = u[0:100].to_ndarray() # pick off some dest ports\n",
    "dp = nfDF['dstPort'].to_ndarray()\n",
    "print(s)\n",
    "%time t = np.in1d(dp, s) # bool vector of where they are found in the data\n",
    "print(t.sum())"
   ]
  },
  {
   "cell_type": "code",
   "execution_count": null,
   "metadata": {},
   "outputs": [],
   "source": [
    "a = nfDF['start']\n",
    "aMin = a.min()\n",
    "aMax = a.max()\n",
    "print(aMin,aMax, aMax - aMin)\n",
    "%time h = ak.histogram(a,bins=100)\n",
    "print(h)\n",
    "print(h.sum(), a.size)"
   ]
  },
  {
   "cell_type": "code",
   "execution_count": 9,
   "metadata": {},
   "outputs": [
    {
     "name": "stdout",
     "output_type": "stream",
     "text": [
      "60000000 [118781 118783 118785 ... 140369 140369 140369]\n",
      "True\n",
      "CPU times: user 2.32 ms, sys: 731 µs, total: 3.05 ms\n",
      "Wall time: 1min 7s\n",
      "60000000 [0 1 2 ... 59999997 59999998 59999999]\n",
      "60000000 [118781 118783 118785 ... 140369 140369 140369]\n",
      "True\n"
     ]
    }
   ],
   "source": [
    "a = nfDF['start']\n",
    "print(a.size, a)\n",
    "print(ak.is_sorted(a))\n",
    "%time iv = ak.argsort(a)\n",
    "print(iv.size, iv)\n",
    "b = a[iv]\n",
    "print(b.size, b)\n",
    "print(ak.is_sorted(b))"
   ]
  },
  {
   "cell_type": "code",
   "execution_count": null,
   "metadata": {},
   "outputs": [
    {
     "name": "stdout",
     "output_type": "stream",
     "text": [
      "60000000 [46272 445 5060 ... 95765 80 80]\n",
      "False\n"
     ]
    }
   ],
   "source": [
    "a = nfDF['dstPort']\n",
    "print(a.size, a)\n",
    "print(ak.is_sorted(a))\n",
    "%time iv = ak.argsort(a)\n",
    "print(iv.size, iv)\n",
    "b = a[iv]\n",
    "print(b.size, b)\n",
    "print(ak.is_sorted(b))"
   ]
  },
  {
   "cell_type": "code",
   "execution_count": null,
   "metadata": {},
   "outputs": [],
   "source": [
    "#ak.shutdown()\n",
    "#ak.disconnect()"
   ]
  },
  {
   "cell_type": "code",
   "execution_count": null,
   "metadata": {},
   "outputs": [],
   "source": []
  },
  {
   "cell_type": "code",
   "execution_count": null,
   "metadata": {},
   "outputs": [],
   "source": []
  }
 ],
 "metadata": {
  "kernelspec": {
   "display_name": "Python 3",
   "language": "python",
   "name": "python3"
  },
  "language_info": {
   "codemirror_mode": {
    "name": "ipython",
    "version": 3
   },
   "file_extension": ".py",
   "mimetype": "text/x-python",
   "name": "python",
   "nbconvert_exporter": "python",
   "pygments_lexer": "ipython3",
   "version": "3.7.3"
  }
 },
 "nbformat": 4,
 "nbformat_minor": 2
}
